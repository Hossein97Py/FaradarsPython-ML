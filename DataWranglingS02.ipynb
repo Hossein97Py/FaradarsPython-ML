{
 "cells": [
  {
   "cell_type": "markdown",
   "id": "c1a13442",
   "metadata": {},
   "source": [
    "# Series in Pandas"
   ]
  },
  {
   "cell_type": "code",
   "execution_count": 2,
   "id": "c9141a65",
   "metadata": {},
   "outputs": [],
   "source": [
    "import pandas as pd"
   ]
  },
  {
   "cell_type": "code",
   "execution_count": 2,
   "id": "7d538aa7",
   "metadata": {},
   "outputs": [
    {
     "data": {
      "text/plain": [
       "0    12\n",
       "1    14\n",
       "2    18\n",
       "3     6\n",
       "4    20\n",
       "dtype: int64"
      ]
     },
     "execution_count": 2,
     "metadata": {},
     "output_type": "execute_result"
    }
   ],
   "source": [
    "s = pd.Series([12, 14, 18, 6, 20])\n",
    "s"
   ]
  },
  {
   "cell_type": "code",
   "execution_count": 41,
   "id": "c6541872",
   "metadata": {},
   "outputs": [
    {
     "data": {
      "text/plain": [
       "Ali        12\n",
       "Taha       14\n",
       "Sara       18\n",
       "Omid        6\n",
       "Hossein    20\n",
       "dtype: int64"
      ]
     },
     "execution_count": 41,
     "metadata": {},
     "output_type": "execute_result"
    }
   ],
   "source": [
    "s = pd.Series([12, 14, 18, 6, 20], index=['Ali', 'Taha', 'Sara', 'Omid', 'Hossein'])\n",
    "s"
   ]
  },
  {
   "cell_type": "code",
   "execution_count": 42,
   "id": "84ba0362",
   "metadata": {},
   "outputs": [
    {
     "data": {
      "text/plain": [
       "Ali        12.0\n",
       "Hassan      NaN\n",
       "Mahsa       NaN\n",
       "Omid        6.0\n",
       "Hossein    20.0\n",
       "dtype: float64"
      ]
     },
     "execution_count": 42,
     "metadata": {},
     "output_type": "execute_result"
    }
   ],
   "source": [
    "s = s.reindex(['Ali', 'Hassan', 'Mahsa', 'Omid', 'Hossein'])\n",
    "s"
   ]
  },
  {
   "cell_type": "code",
   "execution_count": 43,
   "id": "b5fbdeda",
   "metadata": {},
   "outputs": [
    {
     "data": {
      "text/plain": [
       "nan"
      ]
     },
     "execution_count": 43,
     "metadata": {},
     "output_type": "execute_result"
    }
   ],
   "source": [
    "s[1] # we changed Mahsa"
   ]
  },
  {
   "cell_type": "code",
   "execution_count": 45,
   "id": "05ae6cc6",
   "metadata": {},
   "outputs": [
    {
     "data": {
      "text/plain": [
       "Ali        12.0\n",
       "Hassan     18.5\n",
       "Mahsa      14.5\n",
       "Omid        6.0\n",
       "Hossein    20.0\n",
       "dtype: float64"
      ]
     },
     "execution_count": 45,
     "metadata": {},
     "output_type": "execute_result"
    }
   ],
   "source": [
    "s['Mahsa'] = 14.5\n",
    "s['Hassan'] = 18.5\n",
    "s"
   ]
  },
  {
   "cell_type": "code",
   "execution_count": 46,
   "id": "818931e5",
   "metadata": {},
   "outputs": [
    {
     "data": {
      "text/plain": [
       "Index(['Ali', 'Hassan', 'Mahsa', 'Omid', 'Hossein'], dtype='object')"
      ]
     },
     "execution_count": 46,
     "metadata": {},
     "output_type": "execute_result"
    }
   ],
   "source": [
    "s.index"
   ]
  },
  {
   "cell_type": "code",
   "execution_count": 47,
   "id": "d73337a8",
   "metadata": {},
   "outputs": [
    {
     "data": {
      "text/plain": [
       "array([12. , 18.5, 14.5,  6. , 20. ])"
      ]
     },
     "execution_count": 47,
     "metadata": {},
     "output_type": "execute_result"
    }
   ],
   "source": [
    "s.values"
   ]
  },
  {
   "cell_type": "code",
   "execution_count": 49,
   "id": "2de6438e",
   "metadata": {},
   "outputs": [
    {
     "data": {
      "text/plain": [
       "Names\n",
       "Ali        12.0\n",
       "Hassan     18.5\n",
       "Mahsa      14.5\n",
       "Omid        6.0\n",
       "Hossein    20.0\n",
       "Name: Grades, dtype: float64"
      ]
     },
     "execution_count": 49,
     "metadata": {},
     "output_type": "execute_result"
    }
   ],
   "source": [
    "s.index.name = 'Names'\n",
    "s.name = 'Grades'\n",
    "s"
   ]
  },
  {
   "cell_type": "code",
   "execution_count": 50,
   "id": "4556a211",
   "metadata": {},
   "outputs": [
    {
     "data": {
      "text/plain": [
       "Names\n",
       "Ali        12.0\n",
       "Hassan     18.5\n",
       "Mahsa      14.5\n",
       "Hossein    20.0\n",
       "Name: Grades, dtype: float64"
      ]
     },
     "execution_count": 50,
     "metadata": {},
     "output_type": "execute_result"
    }
   ],
   "source": [
    "s = s.drop('Omid') #Thats how we kill omid\n",
    "s"
   ]
  },
  {
   "cell_type": "code",
   "execution_count": 51,
   "id": "54edfc53",
   "metadata": {},
   "outputs": [
    {
     "data": {
      "text/plain": [
       "A    12\n",
       "B    14\n",
       "C     5\n",
       "D     7\n",
       "E     2\n",
       "dtype: int64"
      ]
     },
     "execution_count": 51,
     "metadata": {},
     "output_type": "execute_result"
    }
   ],
   "source": [
    "myser = pd.Series([12, 14, 5, 7, 2], index=['A', 'B', 'C', 'D', 'E'])\n",
    "myser"
   ]
  },
  {
   "cell_type": "code",
   "execution_count": 52,
   "id": "aada2e42",
   "metadata": {},
   "outputs": [
    {
     "data": {
      "text/plain": [
       "5"
      ]
     },
     "execution_count": 52,
     "metadata": {},
     "output_type": "execute_result"
    }
   ],
   "source": [
    "myser.pop('C')"
   ]
  },
  {
   "cell_type": "code",
   "execution_count": 54,
   "id": "1d1ce335",
   "metadata": {},
   "outputs": [
    {
     "data": {
      "text/plain": [
       "A    12\n",
       "B    14\n",
       "D     7\n",
       "E     2\n",
       "dtype: int64"
      ]
     },
     "execution_count": 54,
     "metadata": {},
     "output_type": "execute_result"
    }
   ],
   "source": [
    "myser # داد‌ای که اندیس اش سی بود حذف شد"
   ]
  },
  {
   "cell_type": "code",
   "execution_count": 56,
   "id": "4f9df743",
   "metadata": {},
   "outputs": [
    {
     "data": {
      "text/plain": [
       "A    12.0\n",
       "B    14.0\n",
       "C     5.0\n",
       "D     NaN\n",
       "E     7.0\n",
       "F     2.0\n",
       "dtype: float64"
      ]
     },
     "execution_count": 56,
     "metadata": {},
     "output_type": "execute_result"
    }
   ],
   "source": [
    "import numpy as np\n",
    "s = pd.Series([12, 14, 5, np.NaN, 7, 2], index=['A', 'B', 'C', 'D', 'E', 'F'])\n",
    "s"
   ]
  },
  {
   "cell_type": "code",
   "execution_count": 57,
   "id": "240311a8",
   "metadata": {},
   "outputs": [
    {
     "data": {
      "text/plain": [
       "A    False\n",
       "B    False\n",
       "C    False\n",
       "D     True\n",
       "E    False\n",
       "F    False\n",
       "dtype: bool"
      ]
     },
     "execution_count": 57,
     "metadata": {},
     "output_type": "execute_result"
    }
   ],
   "source": [
    "s.isna()"
   ]
  },
  {
   "cell_type": "code",
   "execution_count": 58,
   "id": "22c66d48",
   "metadata": {},
   "outputs": [
    {
     "data": {
      "text/plain": [
       "A     True\n",
       "B     True\n",
       "C     True\n",
       "D    False\n",
       "E     True\n",
       "F     True\n",
       "dtype: bool"
      ]
     },
     "execution_count": 58,
     "metadata": {},
     "output_type": "execute_result"
    }
   ],
   "source": [
    "s.notna()"
   ]
  },
  {
   "cell_type": "code",
   "execution_count": 59,
   "id": "0dd83bb4",
   "metadata": {},
   "outputs": [
    {
     "data": {
      "text/plain": [
       "A    False\n",
       "B    False\n",
       "C    False\n",
       "D    False\n",
       "E    False\n",
       "F    False\n",
       "dtype: bool"
      ]
     },
     "execution_count": 59,
     "metadata": {},
     "output_type": "execute_result"
    }
   ],
   "source": [
    "s.isin(['C'])"
   ]
  },
  {
   "cell_type": "code",
   "execution_count": 61,
   "id": "6fe6e40a",
   "metadata": {},
   "outputs": [
    {
     "data": {
      "text/plain": [
       "A    False\n",
       "B    False\n",
       "C     True\n",
       "D    False\n",
       "E    False\n",
       "F    False\n",
       "dtype: bool"
      ]
     },
     "execution_count": 61,
     "metadata": {},
     "output_type": "execute_result"
    }
   ],
   "source": [
    "s.isin([5]) #isin is for values"
   ]
  },
  {
   "cell_type": "code",
   "execution_count": 62,
   "id": "b9bd95f9",
   "metadata": {},
   "outputs": [
    {
     "data": {
      "text/plain": [
       "A    12.0\n",
       "B    14.0\n",
       "C     5.0\n",
       "D     NaN\n",
       "E     7.0\n",
       "F     2.0\n",
       "dtype: float64"
      ]
     },
     "execution_count": 62,
     "metadata": {},
     "output_type": "execute_result"
    }
   ],
   "source": [
    "sc = s.copy()\n",
    "sc"
   ]
  },
  {
   "cell_type": "code",
   "execution_count": 63,
   "id": "ea9d7b49",
   "metadata": {},
   "outputs": [
    {
     "data": {
      "text/plain": [
       "A    12.0\n",
       "B    89.0\n",
       "C     5.0\n",
       "D     NaN\n",
       "E     7.0\n",
       "F     2.0\n",
       "dtype: float64"
      ]
     },
     "execution_count": 63,
     "metadata": {},
     "output_type": "execute_result"
    }
   ],
   "source": [
    "s['B'] = 89\n",
    "s"
   ]
  },
  {
   "cell_type": "code",
   "execution_count": 65,
   "id": "75a18411",
   "metadata": {},
   "outputs": [
    {
     "data": {
      "text/plain": [
       "A    12.0\n",
       "B    14.0\n",
       "C     5.0\n",
       "D     NaN\n",
       "E     7.0\n",
       "F     2.0\n",
       "dtype: float64"
      ]
     },
     "execution_count": 65,
     "metadata": {},
     "output_type": "execute_result"
    }
   ],
   "source": [
    "sc # changes in s is not applied in sc"
   ]
  },
  {
   "cell_type": "code",
   "execution_count": 66,
   "id": "5343f91f",
   "metadata": {},
   "outputs": [
    {
     "data": {
      "text/plain": [
       "F     2.0\n",
       "C     5.0\n",
       "E     7.0\n",
       "A    12.0\n",
       "B    89.0\n",
       "D     NaN\n",
       "dtype: float64"
      ]
     },
     "execution_count": 66,
     "metadata": {},
     "output_type": "execute_result"
    }
   ],
   "source": [
    "s.sort_values()"
   ]
  },
  {
   "cell_type": "code",
   "execution_count": 67,
   "id": "cb1c6e4e",
   "metadata": {},
   "outputs": [
    {
     "data": {
      "text/plain": [
       "B    89.0\n",
       "A    12.0\n",
       "E     7.0\n",
       "C     5.0\n",
       "F     2.0\n",
       "D     NaN\n",
       "dtype: float64"
      ]
     },
     "execution_count": 67,
     "metadata": {},
     "output_type": "execute_result"
    }
   ],
   "source": [
    "s.sort_values(ascending=False)"
   ]
  },
  {
   "cell_type": "code",
   "execution_count": 69,
   "id": "ea3d5983",
   "metadata": {},
   "outputs": [
    {
     "data": {
      "text/plain": [
       "A    4.0\n",
       "B    5.0\n",
       "C    2.0\n",
       "D    NaN\n",
       "E    3.0\n",
       "F    1.0\n",
       "dtype: float64"
      ]
     },
     "execution_count": 69,
     "metadata": {},
     "output_type": "execute_result"
    }
   ],
   "source": [
    "s.rank() # shows the position in sorted serie"
   ]
  },
  {
   "cell_type": "code",
   "execution_count": 73,
   "id": "4a3faf5c",
   "metadata": {},
   "outputs": [
    {
     "data": {
      "text/plain": [
       "A    12.0\n",
       "B    14.0\n",
       "C     5.0\n",
       "A     NaN\n",
       "E     7.0\n",
       "B     2.0\n",
       "dtype: float64"
      ]
     },
     "execution_count": 73,
     "metadata": {},
     "output_type": "execute_result"
    }
   ],
   "source": [
    "s1 = pd.Series([12, 14, 5, np.NaN, 7, 2], index=['A', 'B', 'C', 'A', 'E', 'B'])\n",
    "s1 # two identical indecies"
   ]
  },
  {
   "cell_type": "code",
   "execution_count": 75,
   "id": "ed68b7f6",
   "metadata": {},
   "outputs": [
    {
     "data": {
      "text/plain": [
       "B    14.0\n",
       "B     2.0\n",
       "dtype: float64"
      ]
     },
     "execution_count": 75,
     "metadata": {},
     "output_type": "execute_result"
    }
   ],
   "source": [
    "s1['B']"
   ]
  },
  {
   "cell_type": "code",
   "execution_count": 77,
   "id": "e3c63b50",
   "metadata": {},
   "outputs": [
    {
     "data": {
      "text/plain": [
       "False"
      ]
     },
     "execution_count": 77,
     "metadata": {},
     "output_type": "execute_result"
    }
   ],
   "source": [
    "s1.index.is_unique"
   ]
  },
  {
   "cell_type": "code",
   "execution_count": 78,
   "id": "3395de96",
   "metadata": {},
   "outputs": [
    {
     "data": {
      "text/plain": [
       "True"
      ]
     },
     "execution_count": 78,
     "metadata": {},
     "output_type": "execute_result"
    }
   ],
   "source": [
    "s.index.is_unique"
   ]
  },
  {
   "cell_type": "code",
   "execution_count": 79,
   "id": "aca19d74",
   "metadata": {},
   "outputs": [
    {
     "data": {
      "text/plain": [
       "count     5.000000\n",
       "mean      8.000000\n",
       "std       4.949747\n",
       "min       2.000000\n",
       "25%       5.000000\n",
       "50%       7.000000\n",
       "75%      12.000000\n",
       "max      14.000000\n",
       "dtype: float64"
      ]
     },
     "execution_count": 79,
     "metadata": {},
     "output_type": "execute_result"
    }
   ],
   "source": [
    "s1.describe()"
   ]
  },
  {
   "cell_type": "code",
   "execution_count": 81,
   "id": "4a1a418e",
   "metadata": {},
   "outputs": [
    {
     "data": {
      "text/plain": [
       "5"
      ]
     },
     "execution_count": 81,
     "metadata": {},
     "output_type": "execute_result"
    }
   ],
   "source": [
    "s.count()"
   ]
  },
  {
   "cell_type": "code",
   "execution_count": 83,
   "id": "74b9b2d8",
   "metadata": {},
   "outputs": [
    {
     "data": {
      "text/plain": [
       "0.25    5.0\n",
       "0.50    7.0\n",
       "dtype: float64"
      ]
     },
     "execution_count": 83,
     "metadata": {},
     "output_type": "execute_result"
    }
   ],
   "source": [
    "s.quantile([0.25, 0.5])"
   ]
  },
  {
   "cell_type": "code",
   "execution_count": 87,
   "id": "bb508fc7",
   "metadata": {},
   "outputs": [
    {
     "data": {
      "text/plain": [
       "A    12.0\n",
       "B    14.0\n",
       "C     5.0\n",
       "A     NaN\n",
       "E     7.0\n",
       "B     2.0\n",
       "dtype: float64"
      ]
     },
     "execution_count": 87,
     "metadata": {},
     "output_type": "execute_result"
    }
   ],
   "source": [
    "s1"
   ]
  },
  {
   "cell_type": "code",
   "execution_count": 88,
   "id": "c53399e8",
   "metadata": {},
   "outputs": [
    {
     "data": {
      "text/plain": [
       "A     True\n",
       "B     True\n",
       "C     True\n",
       "A    False\n",
       "E     True\n",
       "B    False\n",
       "dtype: bool"
      ]
     },
     "execution_count": 88,
     "metadata": {},
     "output_type": "execute_result"
    }
   ],
   "source": [
    "s1 >= 5"
   ]
  },
  {
   "cell_type": "code",
   "execution_count": 91,
   "id": "79bc5f11",
   "metadata": {},
   "outputs": [
    {
     "data": {
      "text/plain": [
       "A    12.0\n",
       "B    14.0\n",
       "C     NaN\n",
       "A     NaN\n",
       "E     NaN\n",
       "B     NaN\n",
       "dtype: float64"
      ]
     },
     "execution_count": 91,
     "metadata": {},
     "output_type": "execute_result"
    }
   ],
   "source": [
    "s1.where(s1 >= 10)"
   ]
  },
  {
   "cell_type": "code",
   "execution_count": 92,
   "id": "cb2dd234",
   "metadata": {},
   "outputs": [
    {
     "data": {
      "text/plain": [
       "0    a\n",
       "1    b\n",
       "2    a\n",
       "3    c\n",
       "4    d\n",
       "dtype: object"
      ]
     },
     "execution_count": 92,
     "metadata": {},
     "output_type": "execute_result"
    }
   ],
   "source": [
    "myser1 = pd.Series(['a', 'b', 'a', 'c', 'd'])\n",
    "myser1"
   ]
  },
  {
   "cell_type": "code",
   "execution_count": 94,
   "id": "f49ed6ad",
   "metadata": {},
   "outputs": [
    {
     "data": {
      "text/plain": [
       "0    False\n",
       "1    False\n",
       "2     True\n",
       "3    False\n",
       "4    False\n",
       "dtype: bool"
      ]
     },
     "execution_count": 94,
     "metadata": {},
     "output_type": "execute_result"
    }
   ],
   "source": [
    "myser1.duplicated() # The second 'a' is duplicted"
   ]
  },
  {
   "cell_type": "code",
   "execution_count": 97,
   "id": "335ab55b",
   "metadata": {},
   "outputs": [
    {
     "data": {
      "text/plain": [
       "0    a\n",
       "1    b\n",
       "3    c\n",
       "4    d\n",
       "dtype: object"
      ]
     },
     "execution_count": 97,
     "metadata": {},
     "output_type": "execute_result"
    }
   ],
   "source": [
    "myser1.drop_duplicates() # Remove duplicated values"
   ]
  },
  {
   "cell_type": "code",
   "execution_count": 98,
   "id": "b91af4ff",
   "metadata": {},
   "outputs": [
    {
     "data": {
      "text/plain": [
       "1    b\n",
       "2    a\n",
       "3    c\n",
       "4    d\n",
       "dtype: object"
      ]
     },
     "execution_count": 98,
     "metadata": {},
     "output_type": "execute_result"
    }
   ],
   "source": [
    "myser1 = pd.Series(['a', 'b', 'a', 'c', 'd'])\n",
    "myser1.drop_duplicates(keep='last') #Remove the first of the duplicated"
   ]
  },
  {
   "cell_type": "code",
   "execution_count": 99,
   "id": "944ab951",
   "metadata": {},
   "outputs": [
    {
     "data": {
      "text/plain": [
       "0    1\n",
       "1    2\n",
       "2    3\n",
       "3    4\n",
       "dtype: int64"
      ]
     },
     "execution_count": 99,
     "metadata": {},
     "output_type": "execute_result"
    }
   ],
   "source": [
    "s = pd.Series([1, 2, 3, 4])\n",
    "s"
   ]
  },
  {
   "cell_type": "code",
   "execution_count": 100,
   "id": "db365545",
   "metadata": {},
   "outputs": [
    {
     "data": {
      "text/plain": [
       "item_0    1\n",
       "item_1    2\n",
       "item_2    3\n",
       "item_3    4\n",
       "dtype: int64"
      ]
     },
     "execution_count": 100,
     "metadata": {},
     "output_type": "execute_result"
    }
   ],
   "source": [
    "s.add_prefix('item_')"
   ]
  },
  {
   "cell_type": "code",
   "execution_count": 102,
   "id": "74c40228",
   "metadata": {},
   "outputs": [
    {
     "data": {
      "text/plain": [
       "0:    1\n",
       "1:    2\n",
       "2:    3\n",
       "3:    4\n",
       "dtype: int64"
      ]
     },
     "execution_count": 102,
     "metadata": {},
     "output_type": "execute_result"
    }
   ],
   "source": [
    "s.add_suffix(':')"
   ]
  },
  {
   "cell_type": "markdown",
   "id": "c16a0bda",
   "metadata": {},
   "source": [
    "## یکسری عملیات ریاضی روی سری های پانداس"
   ]
  },
  {
   "cell_type": "code",
   "execution_count": 103,
   "id": "5c79b5fc",
   "metadata": {},
   "outputs": [],
   "source": [
    "a = pd.Series([1, 10, 3])\n",
    "b = pd.Series([4, 5, 6])"
   ]
  },
  {
   "cell_type": "code",
   "execution_count": 104,
   "id": "9a2aca4e",
   "metadata": {},
   "outputs": [
    {
     "data": {
      "text/plain": [
       "0     5\n",
       "1    15\n",
       "2     9\n",
       "dtype: int64"
      ]
     },
     "execution_count": 104,
     "metadata": {},
     "output_type": "execute_result"
    }
   ],
   "source": [
    "a + b"
   ]
  },
  {
   "cell_type": "code",
   "execution_count": 105,
   "id": "14e44a38",
   "metadata": {},
   "outputs": [
    {
     "data": {
      "text/plain": [
       "0     5\n",
       "1    15\n",
       "2     9\n",
       "dtype: int64"
      ]
     },
     "execution_count": 105,
     "metadata": {},
     "output_type": "execute_result"
    }
   ],
   "source": [
    "a.add(b)"
   ]
  },
  {
   "cell_type": "code",
   "execution_count": 106,
   "id": "cba83f13",
   "metadata": {},
   "outputs": [
    {
     "data": {
      "text/plain": [
       "0   -3\n",
       "1    5\n",
       "2   -3\n",
       "dtype: int64"
      ]
     },
     "execution_count": 106,
     "metadata": {},
     "output_type": "execute_result"
    }
   ],
   "source": [
    "a.subtract(b)"
   ]
  },
  {
   "cell_type": "code",
   "execution_count": 107,
   "id": "d6d12f40",
   "metadata": {},
   "outputs": [
    {
     "data": {
      "text/plain": [
       "0     4\n",
       "1    50\n",
       "2    18\n",
       "dtype: int64"
      ]
     },
     "execution_count": 107,
     "metadata": {},
     "output_type": "execute_result"
    }
   ],
   "source": [
    "a.multiply(b)"
   ]
  },
  {
   "cell_type": "code",
   "execution_count": 108,
   "id": "86420486",
   "metadata": {},
   "outputs": [
    {
     "data": {
      "text/plain": [
       "0         1\n",
       "1    100000\n",
       "2       729\n",
       "dtype: int64"
      ]
     },
     "execution_count": 108,
     "metadata": {},
     "output_type": "execute_result"
    }
   ],
   "source": [
    "a.pow(b)"
   ]
  },
  {
   "cell_type": "code",
   "execution_count": 110,
   "id": "435ed8f2",
   "metadata": {},
   "outputs": [
    {
     "data": {
      "text/plain": [
       "0    0.25\n",
       "1    2.00\n",
       "2    0.50\n",
       "dtype: float64"
      ]
     },
     "execution_count": 110,
     "metadata": {},
     "output_type": "execute_result"
    }
   ],
   "source": [
    "a.divide(b)"
   ]
  },
  {
   "cell_type": "code",
   "execution_count": 112,
   "id": "a82bb28e",
   "metadata": {},
   "outputs": [
    {
     "data": {
      "text/plain": [
       "0    1\n",
       "1    0\n",
       "2    3\n",
       "dtype: int64"
      ]
     },
     "execution_count": 112,
     "metadata": {},
     "output_type": "execute_result"
    }
   ],
   "source": [
    "a.mod(b) #  باقیمانده تقسیم"
   ]
  },
  {
   "cell_type": "code",
   "execution_count": 113,
   "id": "8040aaee",
   "metadata": {},
   "outputs": [],
   "source": [
    "a = pd.Series([1, 10, 3], index=['a', 'b', 'c'])\n",
    "b = pd.Series([4, 5, 6], index=['a', 'b', 'd'])"
   ]
  },
  {
   "cell_type": "code",
   "execution_count": 115,
   "id": "57de7a5f",
   "metadata": {},
   "outputs": [
    {
     "data": {
      "text/plain": [
       "a     5.0\n",
       "b    15.0\n",
       "c     NaN\n",
       "d     NaN\n",
       "dtype: float64"
      ]
     },
     "execution_count": 115,
     "metadata": {},
     "output_type": "execute_result"
    }
   ],
   "source": [
    "a.add(b) # اگه سری متناظر رو نداشته باشیم مشکل پیش میاد"
   ]
  },
  {
   "cell_type": "code",
   "execution_count": 116,
   "id": "fdfb0c87",
   "metadata": {},
   "outputs": [
    {
     "data": {
      "text/plain": [
       "a     5.0\n",
       "b    15.0\n",
       "c     3.0\n",
       "d     6.0\n",
       "dtype: float64"
      ]
     },
     "execution_count": 116,
     "metadata": {},
     "output_type": "execute_result"
    }
   ],
   "source": [
    "a.add(b, fill_value=0)"
   ]
  },
  {
   "cell_type": "markdown",
   "id": "8ceea65f",
   "metadata": {},
   "source": [
    "## eq, ne, gt, ge, lt, le"
   ]
  },
  {
   "cell_type": "code",
   "execution_count": 5,
   "id": "c7b9233d",
   "metadata": {},
   "outputs": [],
   "source": [
    "s1 = pd.Series([8, 2, 12, 6, 5, 4])\n",
    "s2 = pd.Series([20, 2, 7, 6, 2, 17])"
   ]
  },
  {
   "cell_type": "code",
   "execution_count": 7,
   "id": "d8691091",
   "metadata": {},
   "outputs": [
    {
     "data": {
      "text/plain": [
       "0    False\n",
       "1     True\n",
       "2    False\n",
       "3     True\n",
       "4    False\n",
       "5    False\n",
       "dtype: bool"
      ]
     },
     "execution_count": 7,
     "metadata": {},
     "output_type": "execute_result"
    }
   ],
   "source": [
    "s1.eq(s2) # بررسی تساوی"
   ]
  },
  {
   "cell_type": "code",
   "execution_count": 8,
   "id": "831bdd3b",
   "metadata": {},
   "outputs": [
    {
     "data": {
      "text/plain": [
       "0     True\n",
       "1    False\n",
       "2     True\n",
       "3    False\n",
       "4     True\n",
       "5     True\n",
       "dtype: bool"
      ]
     },
     "execution_count": 8,
     "metadata": {},
     "output_type": "execute_result"
    }
   ],
   "source": [
    "s1.ne(s2) # not equal"
   ]
  },
  {
   "cell_type": "code",
   "execution_count": 9,
   "id": "d916b109",
   "metadata": {},
   "outputs": [
    {
     "data": {
      "text/plain": [
       "0    False\n",
       "1    False\n",
       "2     True\n",
       "3    False\n",
       "4     True\n",
       "5    False\n",
       "dtype: bool"
      ]
     },
     "execution_count": 9,
     "metadata": {},
     "output_type": "execute_result"
    }
   ],
   "source": [
    "s1.gt(s2) # greater"
   ]
  },
  {
   "cell_type": "markdown",
   "id": "1c860792",
   "metadata": {},
   "source": [
    "ge: greater or equal * \n",
    "lt: lower * \n",
    "le: lower or equal"
   ]
  },
  {
   "cell_type": "markdown",
   "id": "bf1f9ef9",
   "metadata": {},
   "source": [
    "## argmax, argmin"
   ]
  },
  {
   "cell_type": "code",
   "execution_count": 11,
   "id": "46c62b6d",
   "metadata": {},
   "outputs": [],
   "source": [
    "score = pd.Series({'java': 15, 'C++': 20, 'Python': 12, 'Pascal': 9})"
   ]
  },
  {
   "cell_type": "code",
   "execution_count": 12,
   "id": "5df22bc5",
   "metadata": {},
   "outputs": [
    {
     "data": {
      "text/plain": [
       "java      15\n",
       "C++       20\n",
       "Python    12\n",
       "Pascal     9\n",
       "dtype: int64"
      ]
     },
     "execution_count": 12,
     "metadata": {},
     "output_type": "execute_result"
    }
   ],
   "source": [
    "score"
   ]
  },
  {
   "cell_type": "code",
   "execution_count": 15,
   "id": "eec1724f",
   "metadata": {},
   "outputs": [
    {
     "data": {
      "text/plain": [
       "20"
      ]
     },
     "execution_count": 15,
     "metadata": {},
     "output_type": "execute_result"
    }
   ],
   "source": [
    "score[score.argmax()] # score[1]"
   ]
  },
  {
   "cell_type": "code",
   "execution_count": 16,
   "id": "404c3449",
   "metadata": {},
   "outputs": [
    {
     "data": {
      "text/plain": [
       "3"
      ]
     },
     "execution_count": 16,
     "metadata": {},
     "output_type": "execute_result"
    }
   ],
   "source": [
    "score.argmin()"
   ]
  },
  {
   "cell_type": "code",
   "execution_count": 17,
   "id": "d171c44e",
   "metadata": {},
   "outputs": [
    {
     "data": {
      "text/plain": [
       "'Pascal'"
      ]
     },
     "execution_count": 17,
     "metadata": {},
     "output_type": "execute_result"
    }
   ],
   "source": [
    "score.idxmin()"
   ]
  },
  {
   "cell_type": "markdown",
   "id": "7baba4a7",
   "metadata": {},
   "source": [
    "## cumsum, cumprod (cumulative)"
   ]
  },
  {
   "cell_type": "code",
   "execution_count": 18,
   "id": "5106d011",
   "metadata": {},
   "outputs": [],
   "source": [
    "import numpy as np\n",
    "s = pd.Series([3, 2, np.nan, 5, 0])"
   ]
  },
  {
   "cell_type": "code",
   "execution_count": 19,
   "id": "32562639",
   "metadata": {},
   "outputs": [
    {
     "data": {
      "text/plain": [
       "0     3.0\n",
       "1     5.0\n",
       "2     NaN\n",
       "3    10.0\n",
       "4    10.0\n",
       "dtype: float64"
      ]
     },
     "execution_count": 19,
     "metadata": {},
     "output_type": "execute_result"
    }
   ],
   "source": [
    "s.cumsum()"
   ]
  },
  {
   "cell_type": "code",
   "execution_count": 20,
   "id": "103946a4",
   "metadata": {},
   "outputs": [
    {
     "data": {
      "text/plain": [
       "0     3.0\n",
       "1     6.0\n",
       "2     NaN\n",
       "3    30.0\n",
       "4     0.0\n",
       "dtype: float64"
      ]
     },
     "execution_count": 20,
     "metadata": {},
     "output_type": "execute_result"
    }
   ],
   "source": [
    "s.cumprod()"
   ]
  },
  {
   "cell_type": "markdown",
   "id": "2a7c9f1c",
   "metadata": {},
   "source": [
    "## value_count, unique"
   ]
  },
  {
   "cell_type": "code",
   "execution_count": 22,
   "id": "82d5150b",
   "metadata": {},
   "outputs": [],
   "source": [
    "s = pd.Series(['c', 'a', 'd', 'a', 'a', 'c', 'b', 'b' , 'c', 'c'])"
   ]
  },
  {
   "cell_type": "code",
   "execution_count": 24,
   "id": "98ee7dd3",
   "metadata": {},
   "outputs": [
    {
     "data": {
      "text/plain": [
       "c    4\n",
       "a    3\n",
       "b    2\n",
       "d    1\n",
       "dtype: int64"
      ]
     },
     "execution_count": 24,
     "metadata": {},
     "output_type": "execute_result"
    }
   ],
   "source": [
    "s.value_counts()"
   ]
  },
  {
   "cell_type": "code",
   "execution_count": 27,
   "id": "cbaa8e13",
   "metadata": {},
   "outputs": [
    {
     "data": {
      "text/plain": [
       "c    4\n",
       "a    3\n",
       "d    1\n",
       "b    2\n",
       "dtype: int64"
      ]
     },
     "execution_count": 27,
     "metadata": {},
     "output_type": "execute_result"
    }
   ],
   "source": [
    "pd.value_counts(s.values, sort=False)"
   ]
  },
  {
   "cell_type": "code",
   "execution_count": 28,
   "id": "e8fdd867",
   "metadata": {},
   "outputs": [
    {
     "data": {
      "text/plain": [
       "array(['c', 'a', 'd', 'b'], dtype=object)"
      ]
     },
     "execution_count": 28,
     "metadata": {},
     "output_type": "execute_result"
    }
   ],
   "source": [
    "s.unique()"
   ]
  },
  {
   "cell_type": "code",
   "execution_count": 29,
   "id": "d0c36c8f",
   "metadata": {},
   "outputs": [
    {
     "data": {
      "text/plain": [
       "array(['c', 'a', 'd', 'b'], dtype=object)"
      ]
     },
     "execution_count": 29,
     "metadata": {},
     "output_type": "execute_result"
    }
   ],
   "source": [
    "pd.Series(['c', 'a', 'd', 'a', 'a', 'c', 'b', 'b' , 'c', 'c']).unique()"
   ]
  },
  {
   "cell_type": "markdown",
   "id": "afde816f",
   "metadata": {},
   "source": [
    "## append, combine"
   ]
  },
  {
   "cell_type": "code",
   "execution_count": 30,
   "id": "e8e5cab5",
   "metadata": {},
   "outputs": [],
   "source": [
    "s1 = pd.Series([8, 2, 12, 6, 5, 4])\n",
    "s2 = pd.Series([20, 2, 7, 6, 2, 17])"
   ]
  },
  {
   "cell_type": "code",
   "execution_count": 31,
   "id": "7cfa689d",
   "metadata": {},
   "outputs": [
    {
     "data": {
      "text/plain": [
       "0     8\n",
       "1     2\n",
       "2    12\n",
       "3     6\n",
       "4     5\n",
       "5     4\n",
       "0    20\n",
       "1     2\n",
       "2     7\n",
       "3     6\n",
       "4     2\n",
       "5    17\n",
       "dtype: int64"
      ]
     },
     "execution_count": 31,
     "metadata": {},
     "output_type": "execute_result"
    }
   ],
   "source": [
    "s1.append(s2)"
   ]
  },
  {
   "cell_type": "code",
   "execution_count": 33,
   "id": "0b5cebf7",
   "metadata": {},
   "outputs": [],
   "source": [
    "s1 = pd.Series({'Ali': 16, 'Sara': 17})\n",
    "s2 = pd.Series({'Ali': 19, 'Sara': 15, 'Taha':18})"
   ]
  },
  {
   "cell_type": "code",
   "execution_count": 34,
   "id": "7160afa4",
   "metadata": {},
   "outputs": [
    {
     "data": {
      "text/plain": [
       "Ali     19.0\n",
       "Sara    17.0\n",
       "Taha     NaN\n",
       "dtype: float64"
      ]
     },
     "execution_count": 34,
     "metadata": {},
     "output_type": "execute_result"
    }
   ],
   "source": [
    "s1.combine(s2, max)"
   ]
  },
  {
   "cell_type": "code",
   "execution_count": 36,
   "id": "8eaaf5e2",
   "metadata": {},
   "outputs": [
    {
     "data": {
      "text/plain": [
       "Ali     19\n",
       "Sara    17\n",
       "Taha    18\n",
       "dtype: int64"
      ]
     },
     "execution_count": 36,
     "metadata": {},
     "output_type": "execute_result"
    }
   ],
   "source": [
    "s1.combine(s2, max, fill_value=0) # حل بحث طاها"
   ]
  },
  {
   "cell_type": "markdown",
   "id": "73d38874",
   "metadata": {},
   "source": [
    "## apply"
   ]
  },
  {
   "cell_type": "code",
   "execution_count": 37,
   "id": "71ea81ff",
   "metadata": {},
   "outputs": [
    {
     "data": {
      "text/plain": [
       "0     10\n",
       "1      5\n",
       "2    100\n",
       "dtype: int64"
      ]
     },
     "execution_count": 37,
     "metadata": {},
     "output_type": "execute_result"
    }
   ],
   "source": [
    "s= pd.Series([10, 5, 100])\n",
    "s"
   ]
  },
  {
   "cell_type": "code",
   "execution_count": 38,
   "id": "e338b24d",
   "metadata": {},
   "outputs": [
    {
     "data": {
      "text/plain": [
       "0    1.00000\n",
       "1    0.69897\n",
       "2    2.00000\n",
       "dtype: float64"
      ]
     },
     "execution_count": 38,
     "metadata": {},
     "output_type": "execute_result"
    }
   ],
   "source": [
    "s.apply(np.log10)"
   ]
  },
  {
   "cell_type": "code",
   "execution_count": 39,
   "id": "50e859cb",
   "metadata": {},
   "outputs": [
    {
     "data": {
      "text/plain": [
       "0      100\n",
       "1       25\n",
       "2    10000\n",
       "dtype: int64"
      ]
     },
     "execution_count": 39,
     "metadata": {},
     "output_type": "execute_result"
    }
   ],
   "source": [
    "def f(x):\n",
    "    return x**2\n",
    "s.apply(f)"
   ]
  },
  {
   "cell_type": "markdown",
   "id": "2015deec",
   "metadata": {},
   "source": [
    " تابعی که تعریف کردیم رو روی تک تک داده های سری اعمال کردیم"
   ]
  },
  {
   "cell_type": "code",
   "execution_count": 41,
   "id": "59561996",
   "metadata": {},
   "outputs": [
    {
     "data": {
      "text/plain": [
       "0      100\n",
       "1       25\n",
       "2    10000\n",
       "dtype: int64"
      ]
     },
     "execution_count": 41,
     "metadata": {},
     "output_type": "execute_result"
    }
   ],
   "source": [
    "lam = lambda x: x**2\n",
    "s.apply(lam)"
   ]
  },
  {
   "cell_type": "code",
   "execution_count": 42,
   "id": "e650ee79",
   "metadata": {},
   "outputs": [
    {
     "data": {
      "text/plain": [
       "0     8\n",
       "1     3\n",
       "2    98\n",
       "dtype: int64"
      ]
     },
     "execution_count": 42,
     "metadata": {},
     "output_type": "execute_result"
    }
   ],
   "source": [
    "def myfunc(x, y):\n",
    "    return x - y\n",
    "s.apply(myfunc, args=(2, ))"
   ]
  },
  {
   "cell_type": "markdown",
   "id": "36561181",
   "metadata": {},
   "source": [
    "تابعی نوشتیم که هر ورودی که بهش بدیم دوتا ازش کم میکنه"
   ]
  },
  {
   "cell_type": "code",
   "execution_count": 44,
   "id": "416c2526",
   "metadata": {},
   "outputs": [
    {
     "data": {
      "text/plain": [
       "0     15\n",
       "1     10\n",
       "2    105\n",
       "dtype: int64"
      ]
     },
     "execution_count": 44,
     "metadata": {},
     "output_type": "execute_result"
    }
   ],
   "source": [
    "def f(r, **kwargs):\n",
    "    for i in kwargs:\n",
    "        r += kwargs[i]\n",
    "    return r\n",
    "s.apply(f, x=3, y=2)"
   ]
  },
  {
   "cell_type": "markdown",
   "id": "3b2fe0d7",
   "metadata": {},
   "source": [
    "## transform"
   ]
  },
  {
   "cell_type": "code",
   "execution_count": 45,
   "id": "eb6a0fc3",
   "metadata": {},
   "outputs": [
    {
     "data": {
      "text/html": [
       "<div>\n",
       "<style scoped>\n",
       "    .dataframe tbody tr th:only-of-type {\n",
       "        vertical-align: middle;\n",
       "    }\n",
       "\n",
       "    .dataframe tbody tr th {\n",
       "        vertical-align: top;\n",
       "    }\n",
       "\n",
       "    .dataframe thead th {\n",
       "        text-align: right;\n",
       "    }\n",
       "</style>\n",
       "<table border=\"1\" class=\"dataframe\">\n",
       "  <thead>\n",
       "    <tr style=\"text-align: right;\">\n",
       "      <th></th>\n",
       "      <th>sqrt</th>\n",
       "      <th>log10</th>\n",
       "    </tr>\n",
       "  </thead>\n",
       "  <tbody>\n",
       "    <tr>\n",
       "      <th>0</th>\n",
       "      <td>3.162278</td>\n",
       "      <td>1.00000</td>\n",
       "    </tr>\n",
       "    <tr>\n",
       "      <th>1</th>\n",
       "      <td>2.236068</td>\n",
       "      <td>0.69897</td>\n",
       "    </tr>\n",
       "    <tr>\n",
       "      <th>2</th>\n",
       "      <td>10.000000</td>\n",
       "      <td>2.00000</td>\n",
       "    </tr>\n",
       "  </tbody>\n",
       "</table>\n",
       "</div>"
      ],
      "text/plain": [
       "        sqrt    log10\n",
       "0   3.162278  1.00000\n",
       "1   2.236068  0.69897\n",
       "2  10.000000  2.00000"
      ]
     },
     "execution_count": 45,
     "metadata": {},
     "output_type": "execute_result"
    }
   ],
   "source": [
    "pd.Series([10, 4, 9])\n",
    "s.transform([np.sqrt, np.log10])"
   ]
  },
  {
   "cell_type": "markdown",
   "id": "faf62aef",
   "metadata": {},
   "source": [
    "## agg: aggregate"
   ]
  },
  {
   "cell_type": "code",
   "execution_count": 46,
   "id": "159ccf81",
   "metadata": {},
   "outputs": [
    {
     "data": {
      "text/plain": [
       "min     2\n",
       "max    18\n",
       "dtype: int64"
      ]
     },
     "execution_count": 46,
     "metadata": {},
     "output_type": "execute_result"
    }
   ],
   "source": [
    "s = pd.Series([10, 4, 9, 2, 18, 16])\n",
    "s.agg(['min', 'max'])"
   ]
  },
  {
   "cell_type": "markdown",
   "id": "d2cdade4",
   "metadata": {},
   "source": [
    "## nlargest, nsmallest"
   ]
  },
  {
   "cell_type": "code",
   "execution_count": 49,
   "id": "0be6956e",
   "metadata": {},
   "outputs": [
    {
     "data": {
      "text/plain": [
       "a    6\n",
       "b    3\n",
       "c    8\n",
       "d    5\n",
       "e    9\n",
       "f    3\n",
       "g    5\n",
       "h    4\n",
       "i    5\n",
       "dtype: int64"
      ]
     },
     "execution_count": 49,
     "metadata": {},
     "output_type": "execute_result"
    }
   ],
   "source": [
    "data = {'a': 6, 'b': 3, 'c': 8, 'd': 5, 'e': 9, 'f': 3, 'g': 5, 'h': 4, 'i':5}\n",
    "s = pd.Series(data)\n",
    "s"
   ]
  },
  {
   "cell_type": "code",
   "execution_count": 52,
   "id": "003b7874",
   "metadata": {},
   "outputs": [
    {
     "data": {
      "text/plain": [
       "e    9\n",
       "c    8\n",
       "a    6\n",
       "d    5\n",
       "dtype: int64"
      ]
     },
     "execution_count": 52,
     "metadata": {},
     "output_type": "execute_result"
    }
   ],
   "source": [
    "s.nlargest(4) # چهارتا بزرگتر رو نشون میده"
   ]
  },
  {
   "cell_type": "code",
   "execution_count": 53,
   "id": "fdb11272",
   "metadata": {},
   "outputs": [
    {
     "data": {
      "text/plain": [
       "e    9\n",
       "c    8\n",
       "a    6\n",
       "d    5\n",
       "g    5\n",
       "i    5\n",
       "dtype: int64"
      ]
     },
     "execution_count": 53,
     "metadata": {},
     "output_type": "execute_result"
    }
   ],
   "source": [
    "s.nlargest(4, keep='all')"
   ]
  },
  {
   "cell_type": "code",
   "execution_count": 55,
   "id": "8bdda944",
   "metadata": {},
   "outputs": [
    {
     "data": {
      "text/plain": [
       "b    3\n",
       "f    3\n",
       "h    4\n",
       "d    5\n",
       "g    5\n",
       "dtype: int64"
      ]
     },
     "execution_count": 55,
     "metadata": {},
     "output_type": "execute_result"
    }
   ],
   "source": [
    "s.nsmallest() # پیشفرض 5 هست"
   ]
  },
  {
   "cell_type": "markdown",
   "id": "2a1a7ac8",
   "metadata": {},
   "source": [
    "## groupby"
   ]
  },
  {
   "cell_type": "code",
   "execution_count": 59,
   "id": "ff9ea584",
   "metadata": {},
   "outputs": [],
   "source": [
    "i = ['BMW', 'BMW', 'Benz', 'Benz']\n",
    "d = [220, 180, 230, 200]"
   ]
  },
  {
   "cell_type": "code",
   "execution_count": 60,
   "id": "225c8019",
   "metadata": {},
   "outputs": [
    {
     "data": {
      "text/plain": [
       "BMW     220\n",
       "BMW     180\n",
       "Benz    230\n",
       "Benz    200\n",
       "Name: MaxSpeed, dtype: int64"
      ]
     },
     "execution_count": 60,
     "metadata": {},
     "output_type": "execute_result"
    }
   ],
   "source": [
    "s = pd.Series(d, index=i, name='MaxSpeed')\n",
    "s"
   ]
  },
  {
   "cell_type": "code",
   "execution_count": 61,
   "id": "b296e4ac",
   "metadata": {},
   "outputs": [
    {
     "data": {
      "text/plain": [
       "BMW     220\n",
       "Benz    230\n",
       "Name: MaxSpeed, dtype: int64"
      ]
     },
     "execution_count": 61,
     "metadata": {},
     "output_type": "execute_result"
    }
   ],
   "source": [
    "s.groupby(i).max()"
   ]
  },
  {
   "cell_type": "code",
   "execution_count": 62,
   "id": "21f2f7a7",
   "metadata": {},
   "outputs": [
    {
     "data": {
      "text/plain": [
       "BMW     200.0\n",
       "Benz    215.0\n",
       "Name: MaxSpeed, dtype: float64"
      ]
     },
     "execution_count": 62,
     "metadata": {},
     "output_type": "execute_result"
    }
   ],
   "source": [
    "s.groupby(i).mean()"
   ]
  },
  {
   "cell_type": "markdown",
   "id": "a6617c71",
   "metadata": {},
   "source": [
    "## between"
   ]
  },
  {
   "cell_type": "code",
   "execution_count": 63,
   "id": "23fafe38",
   "metadata": {},
   "outputs": [
    {
     "data": {
      "text/plain": [
       "0     True\n",
       "1    False\n",
       "2     True\n",
       "3     True\n",
       "dtype: bool"
      ]
     },
     "execution_count": 63,
     "metadata": {},
     "output_type": "execute_result"
    }
   ],
   "source": [
    "s = pd.Series([15, 9, 18, 20])\n",
    "s.between(10, 20)"
   ]
  },
  {
   "cell_type": "markdown",
   "id": "229e4caf",
   "metadata": {},
   "source": [
    "## dropnan"
   ]
  },
  {
   "cell_type": "code",
   "execution_count": 73,
   "id": "e2e247a3",
   "metadata": {},
   "outputs": [],
   "source": [
    "s = pd.Series([18, np.nan, 19, 15,np.nan, 17])"
   ]
  },
  {
   "cell_type": "code",
   "execution_count": 74,
   "id": "dbdb38da",
   "metadata": {},
   "outputs": [
    {
     "data": {
      "text/plain": [
       "0    18.0\n",
       "1     NaN\n",
       "2    19.0\n",
       "3    15.0\n",
       "4     NaN\n",
       "5    17.0\n",
       "dtype: float64"
      ]
     },
     "execution_count": 74,
     "metadata": {},
     "output_type": "execute_result"
    }
   ],
   "source": [
    "s"
   ]
  },
  {
   "cell_type": "code",
   "execution_count": 77,
   "id": "d79dce93",
   "metadata": {},
   "outputs": [],
   "source": [
    "s.dropna(inplace=True) #  inplace=True : we didnt need to write s = s.dropna()"
   ]
  },
  {
   "cell_type": "code",
   "execution_count": 78,
   "id": "f4b3c09f",
   "metadata": {},
   "outputs": [
    {
     "data": {
      "text/plain": [
       "0    18.0\n",
       "2    19.0\n",
       "3    15.0\n",
       "5    17.0\n",
       "dtype: float64"
      ]
     },
     "execution_count": 78,
     "metadata": {},
     "output_type": "execute_result"
    }
   ],
   "source": [
    "s"
   ]
  },
  {
   "cell_type": "markdown",
   "id": "2aed1bed",
   "metadata": {},
   "source": [
    "## to_numpy, to_dict"
   ]
  },
  {
   "cell_type": "code",
   "execution_count": 82,
   "id": "903b8bf4",
   "metadata": {},
   "outputs": [
    {
     "data": {
      "text/plain": [
       "array([15,  9, 18, 20], dtype=int64)"
      ]
     },
     "execution_count": 82,
     "metadata": {},
     "output_type": "execute_result"
    }
   ],
   "source": [
    "s = pd.Series([15, 9, 18, 20])\n",
    "arr = s.to_numpy()\n",
    "arr"
   ]
  },
  {
   "cell_type": "code",
   "execution_count": 84,
   "id": "024ee1f9",
   "metadata": {},
   "outputs": [
    {
     "data": {
      "text/plain": [
       "{0: 15, 1: 9, 2: 18, 3: 20}"
      ]
     },
     "execution_count": 84,
     "metadata": {},
     "output_type": "execute_result"
    }
   ],
   "source": [
    "s = pd.Series([15, 9, 18, 20])\n",
    "d = s.to_dict()\n",
    "d"
   ]
  },
  {
   "cell_type": "markdown",
   "id": "82b578ae",
   "metadata": {},
   "source": [
    "## replace, repeat"
   ]
  },
  {
   "cell_type": "code",
   "execution_count": 90,
   "id": "417af758",
   "metadata": {},
   "outputs": [
    {
     "data": {
      "text/plain": [
       "0    15\n",
       "1    10\n",
       "2    18\n",
       "3    20\n",
       "dtype: int64"
      ]
     },
     "execution_count": 90,
     "metadata": {},
     "output_type": "execute_result"
    }
   ],
   "source": [
    "s = pd.Series([15, 9, 18, 20])\n",
    "s.replace(9, 10)"
   ]
  },
  {
   "cell_type": "code",
   "execution_count": 91,
   "id": "b4271782",
   "metadata": {},
   "outputs": [
    {
     "data": {
      "text/plain": [
       "0    15\n",
       "1     9\n",
       "2    18\n",
       "3    20\n",
       "dtype: int64"
      ]
     },
     "execution_count": 91,
     "metadata": {},
     "output_type": "execute_result"
    }
   ],
   "source": [
    "s"
   ]
  },
  {
   "cell_type": "code",
   "execution_count": 92,
   "id": "d10dfea4",
   "metadata": {},
   "outputs": [
    {
     "data": {
      "text/plain": [
       "0    15\n",
       "0    15\n",
       "1     9\n",
       "1     9\n",
       "2    18\n",
       "2    18\n",
       "3    20\n",
       "3    20\n",
       "dtype: int64"
      ]
     },
     "execution_count": 92,
     "metadata": {},
     "output_type": "execute_result"
    }
   ],
   "source": [
    "s.repeat(2)"
   ]
  },
  {
   "cell_type": "markdown",
   "id": "1eb8f84a",
   "metadata": {},
   "source": [
    "## MultiIndex"
   ]
  },
  {
   "cell_type": "code",
   "execution_count": 97,
   "id": "2400be0e",
   "metadata": {},
   "outputs": [],
   "source": [
    "lst = [['BMW', 'BMW', 'Benz', 'Benz'], ['A', 'B', 'A', 'B']]\n",
    "mi = pd.MultiIndex.from_arrays(lst, names=('Brand', 'Class'))\n",
    "d = [220, 180, 230, 200]\n",
    "s = pd.Series(d, index=mi)"
   ]
  },
  {
   "cell_type": "code",
   "execution_count": 98,
   "id": "2f3a38a7",
   "metadata": {},
   "outputs": [
    {
     "data": {
      "text/plain": [
       "Brand  Class\n",
       "BMW    A        220\n",
       "       B        180\n",
       "Benz   A        230\n",
       "       B        200\n",
       "dtype: int64"
      ]
     },
     "execution_count": 98,
     "metadata": {},
     "output_type": "execute_result"
    }
   ],
   "source": [
    "s"
   ]
  },
  {
   "cell_type": "code",
   "execution_count": 99,
   "id": "fad5f569",
   "metadata": {},
   "outputs": [
    {
     "data": {
      "text/plain": [
       "Brand\n",
       "BMW     220\n",
       "Benz    230\n",
       "dtype: int64"
      ]
     },
     "execution_count": 99,
     "metadata": {},
     "output_type": "execute_result"
    }
   ],
   "source": [
    "s.groupby(level='Brand').max()"
   ]
  },
  {
   "cell_type": "code",
   "execution_count": 100,
   "id": "4b56c2b4",
   "metadata": {},
   "outputs": [
    {
     "data": {
      "text/plain": [
       "Class\n",
       "A    230\n",
       "B    200\n",
       "dtype: int64"
      ]
     },
     "execution_count": 100,
     "metadata": {},
     "output_type": "execute_result"
    }
   ],
   "source": [
    "s.groupby(level='Class').max()"
   ]
  },
  {
   "cell_type": "code",
   "execution_count": null,
   "id": "e84fcb13",
   "metadata": {},
   "outputs": [],
   "source": []
  }
 ],
 "metadata": {
  "kernelspec": {
   "display_name": "Python 3 (ipykernel)",
   "language": "python",
   "name": "python3"
  },
  "language_info": {
   "codemirror_mode": {
    "name": "ipython",
    "version": 3
   },
   "file_extension": ".py",
   "mimetype": "text/x-python",
   "name": "python",
   "nbconvert_exporter": "python",
   "pygments_lexer": "ipython3",
   "version": "3.9.7"
  }
 },
 "nbformat": 4,
 "nbformat_minor": 5
}
