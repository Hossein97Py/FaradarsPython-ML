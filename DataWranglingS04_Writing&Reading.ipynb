{
 "cells": [
  {
   "cell_type": "code",
   "execution_count": 1,
   "id": "f8c4f14c",
   "metadata": {},
   "outputs": [],
   "source": [
    "import pandas as pd"
   ]
  },
  {
   "cell_type": "markdown",
   "id": "d9027168",
   "metadata": {},
   "source": [
    "## Data Loading and Storage"
   ]
  },
  {
   "cell_type": "code",
   "execution_count": 4,
   "id": "c3f259a2",
   "metadata": {},
   "outputs": [],
   "source": [
    "my_data = {\n",
    "    'Name': ['Ali', 'Sara', 'Taha', 'Omid'],\n",
    "    'Score': [18, 20, 15, 17.5],\n",
    "    'Age': [19, 22, 26, 18]\n",
    "}"
   ]
  },
  {
   "cell_type": "code",
   "execution_count": 5,
   "id": "a64f4ec1",
   "metadata": {},
   "outputs": [],
   "source": [
    "mydf = pd.DataFrame(my_data, columns = ['Name', 'Score', 'Age'])"
   ]
  },
  {
   "cell_type": "code",
   "execution_count": 6,
   "id": "3070b0c2",
   "metadata": {},
   "outputs": [
    {
     "data": {
      "text/html": [
       "<div>\n",
       "<style scoped>\n",
       "    .dataframe tbody tr th:only-of-type {\n",
       "        vertical-align: middle;\n",
       "    }\n",
       "\n",
       "    .dataframe tbody tr th {\n",
       "        vertical-align: top;\n",
       "    }\n",
       "\n",
       "    .dataframe thead th {\n",
       "        text-align: right;\n",
       "    }\n",
       "</style>\n",
       "<table border=\"1\" class=\"dataframe\">\n",
       "  <thead>\n",
       "    <tr style=\"text-align: right;\">\n",
       "      <th></th>\n",
       "      <th>Name</th>\n",
       "      <th>Score</th>\n",
       "      <th>Age</th>\n",
       "    </tr>\n",
       "  </thead>\n",
       "  <tbody>\n",
       "    <tr>\n",
       "      <th>0</th>\n",
       "      <td>Ali</td>\n",
       "      <td>18.0</td>\n",
       "      <td>19</td>\n",
       "    </tr>\n",
       "    <tr>\n",
       "      <th>1</th>\n",
       "      <td>Sara</td>\n",
       "      <td>20.0</td>\n",
       "      <td>22</td>\n",
       "    </tr>\n",
       "    <tr>\n",
       "      <th>2</th>\n",
       "      <td>Taha</td>\n",
       "      <td>15.0</td>\n",
       "      <td>26</td>\n",
       "    </tr>\n",
       "    <tr>\n",
       "      <th>3</th>\n",
       "      <td>Omid</td>\n",
       "      <td>17.5</td>\n",
       "      <td>18</td>\n",
       "    </tr>\n",
       "  </tbody>\n",
       "</table>\n",
       "</div>"
      ],
      "text/plain": [
       "   Name  Score  Age\n",
       "0   Ali   18.0   19\n",
       "1  Sara   20.0   22\n",
       "2  Taha   15.0   26\n",
       "3  Omid   17.5   18"
      ]
     },
     "execution_count": 6,
     "metadata": {},
     "output_type": "execute_result"
    }
   ],
   "source": [
    "mydf"
   ]
  },
  {
   "cell_type": "markdown",
   "id": "ea305ece",
   "metadata": {},
   "source": [
    "## CSV : Comma Seperated Values"
   ]
  },
  {
   "cell_type": "code",
   "execution_count": 10,
   "id": "aead2235",
   "metadata": {},
   "outputs": [],
   "source": [
    "mydf.to_csv('G:SoftwareTutorial/Programming/Python/MachineLearning/Files/Score.csv', index=False)"
   ]
  },
  {
   "cell_type": "markdown",
   "id": "7da513d7",
   "metadata": {},
   "source": [
    "اون دیتافریم رو داخل یک فایل سی اس وی ذخیره کرد"
   ]
  },
  {
   "cell_type": "code",
   "execution_count": 11,
   "id": "04a18cd8",
   "metadata": {},
   "outputs": [
    {
     "data": {
      "text/html": [
       "<div>\n",
       "<style scoped>\n",
       "    .dataframe tbody tr th:only-of-type {\n",
       "        vertical-align: middle;\n",
       "    }\n",
       "\n",
       "    .dataframe tbody tr th {\n",
       "        vertical-align: top;\n",
       "    }\n",
       "\n",
       "    .dataframe thead th {\n",
       "        text-align: right;\n",
       "    }\n",
       "</style>\n",
       "<table border=\"1\" class=\"dataframe\">\n",
       "  <thead>\n",
       "    <tr style=\"text-align: right;\">\n",
       "      <th></th>\n",
       "      <th>0</th>\n",
       "      <th>1</th>\n",
       "      <th>2</th>\n",
       "      <th>3</th>\n",
       "    </tr>\n",
       "  </thead>\n",
       "  <tbody>\n",
       "    <tr>\n",
       "      <th>0</th>\n",
       "      <td>Ali</td>\n",
       "      <td>18.0</td>\n",
       "      <td>19</td>\n",
       "      <td>15</td>\n",
       "    </tr>\n",
       "    <tr>\n",
       "      <th>1</th>\n",
       "      <td>Sara</td>\n",
       "      <td>20.0</td>\n",
       "      <td>22</td>\n",
       "      <td>18</td>\n",
       "    </tr>\n",
       "    <tr>\n",
       "      <th>2</th>\n",
       "      <td>Taha</td>\n",
       "      <td>15.0</td>\n",
       "      <td>26</td>\n",
       "      <td>63</td>\n",
       "    </tr>\n",
       "    <tr>\n",
       "      <th>3</th>\n",
       "      <td>Omid</td>\n",
       "      <td>17.5</td>\n",
       "      <td>18</td>\n",
       "      <td>60</td>\n",
       "    </tr>\n",
       "  </tbody>\n",
       "</table>\n",
       "</div>"
      ],
      "text/plain": [
       "      0     1   2   3\n",
       "0   Ali  18.0  19  15\n",
       "1  Sara  20.0  22  18\n",
       "2  Taha  15.0  26  63\n",
       "3  Omid  17.5  18  60"
      ]
     },
     "execution_count": 11,
     "metadata": {},
     "output_type": "execute_result"
    }
   ],
   "source": [
    "pd.read_csv('G:SoftwareTutorial/Programming/Python/MachineLearning/Files/Student.csv', header=None)"
   ]
  },
  {
   "cell_type": "markdown",
   "id": "cb526a1e",
   "metadata": {},
   "source": [
    "  با این دستور یک فایل روخوندیم. این فایل هدر نداشت و اگر هدر مساوی نان رو نمیذاشتیم سطر اول رو به عنوان هدر در نظر میگرفت خودمون میتونیم هدر بذاریم براش که تو دستور بعد اومده"
   ]
  },
  {
   "cell_type": "code",
   "execution_count": 12,
   "id": "feaa89b5",
   "metadata": {},
   "outputs": [
    {
     "data": {
      "text/html": [
       "<div>\n",
       "<style scoped>\n",
       "    .dataframe tbody tr th:only-of-type {\n",
       "        vertical-align: middle;\n",
       "    }\n",
       "\n",
       "    .dataframe tbody tr th {\n",
       "        vertical-align: top;\n",
       "    }\n",
       "\n",
       "    .dataframe thead th {\n",
       "        text-align: right;\n",
       "    }\n",
       "</style>\n",
       "<table border=\"1\" class=\"dataframe\">\n",
       "  <thead>\n",
       "    <tr style=\"text-align: right;\">\n",
       "      <th></th>\n",
       "      <th>name</th>\n",
       "      <th>Python(of 20)</th>\n",
       "      <th>Java(of 30)</th>\n",
       "      <th>C++(of 70)</th>\n",
       "    </tr>\n",
       "  </thead>\n",
       "  <tbody>\n",
       "    <tr>\n",
       "      <th>0</th>\n",
       "      <td>Ali</td>\n",
       "      <td>18.0</td>\n",
       "      <td>19</td>\n",
       "      <td>15</td>\n",
       "    </tr>\n",
       "    <tr>\n",
       "      <th>1</th>\n",
       "      <td>Sara</td>\n",
       "      <td>20.0</td>\n",
       "      <td>22</td>\n",
       "      <td>18</td>\n",
       "    </tr>\n",
       "    <tr>\n",
       "      <th>2</th>\n",
       "      <td>Taha</td>\n",
       "      <td>15.0</td>\n",
       "      <td>26</td>\n",
       "      <td>63</td>\n",
       "    </tr>\n",
       "    <tr>\n",
       "      <th>3</th>\n",
       "      <td>Omid</td>\n",
       "      <td>17.5</td>\n",
       "      <td>18</td>\n",
       "      <td>60</td>\n",
       "    </tr>\n",
       "  </tbody>\n",
       "</table>\n",
       "</div>"
      ],
      "text/plain": [
       "   name  Python(of 20)  Java(of 30)  C++(of 70)\n",
       "0   Ali           18.0           19          15\n",
       "1  Sara           20.0           22          18\n",
       "2  Taha           15.0           26          63\n",
       "3  Omid           17.5           18          60"
      ]
     },
     "execution_count": 12,
     "metadata": {},
     "output_type": "execute_result"
    }
   ],
   "source": [
    "pd.read_csv('G:SoftwareTutorial/Programming/Python/MachineLearning/Files/Student.csv', names=['name', 'Python(of 20)', 'Java(of 30)', 'C++(of 70)'])"
   ]
  },
  {
   "cell_type": "markdown",
   "id": "1e92450f",
   "metadata": {},
   "source": [
    "### skip rows"
   ]
  },
  {
   "cell_type": "code",
   "execution_count": 13,
   "id": "a8ac32dd",
   "metadata": {},
   "outputs": [
    {
     "data": {
      "text/html": [
       "<div>\n",
       "<style scoped>\n",
       "    .dataframe tbody tr th:only-of-type {\n",
       "        vertical-align: middle;\n",
       "    }\n",
       "\n",
       "    .dataframe tbody tr th {\n",
       "        vertical-align: top;\n",
       "    }\n",
       "\n",
       "    .dataframe thead th {\n",
       "        text-align: right;\n",
       "    }\n",
       "</style>\n",
       "<table border=\"1\" class=\"dataframe\">\n",
       "  <thead>\n",
       "    <tr style=\"text-align: right;\">\n",
       "      <th></th>\n",
       "      <th>#  Hello</th>\n",
       "      <th>shirafkan</th>\n",
       "    </tr>\n",
       "  </thead>\n",
       "  <tbody>\n",
       "    <tr>\n",
       "      <th>0</th>\n",
       "      <td>name</td>\n",
       "      <td>age</td>\n",
       "    </tr>\n",
       "    <tr>\n",
       "      <th>1</th>\n",
       "      <td>Ali</td>\n",
       "      <td>12</td>\n",
       "    </tr>\n",
       "    <tr>\n",
       "      <th>2</th>\n",
       "      <td>Sara</td>\n",
       "      <td>13</td>\n",
       "    </tr>\n",
       "    <tr>\n",
       "      <th>3</th>\n",
       "      <td>Taha</td>\n",
       "      <td>12</td>\n",
       "    </tr>\n",
       "    <tr>\n",
       "      <th>4</th>\n",
       "      <td>Mahsa</td>\n",
       "      <td>20</td>\n",
       "    </tr>\n",
       "  </tbody>\n",
       "</table>\n",
       "</div>"
      ],
      "text/plain": [
       "  #  Hello shirafkan\n",
       "0     name       age\n",
       "1      Ali        12\n",
       "2     Sara        13\n",
       "3     Taha        12\n",
       "4    Mahsa        20"
      ]
     },
     "execution_count": 13,
     "metadata": {},
     "output_type": "execute_result"
    }
   ],
   "source": [
    "pd.read_csv('G:SoftwareTutorial/Programming/Python/MachineLearning/Files/age.csv')"
   ]
  },
  {
   "cell_type": "code",
   "execution_count": 14,
   "id": "fa64b567",
   "metadata": {},
   "outputs": [
    {
     "data": {
      "text/html": [
       "<div>\n",
       "<style scoped>\n",
       "    .dataframe tbody tr th:only-of-type {\n",
       "        vertical-align: middle;\n",
       "    }\n",
       "\n",
       "    .dataframe tbody tr th {\n",
       "        vertical-align: top;\n",
       "    }\n",
       "\n",
       "    .dataframe thead th {\n",
       "        text-align: right;\n",
       "    }\n",
       "</style>\n",
       "<table border=\"1\" class=\"dataframe\">\n",
       "  <thead>\n",
       "    <tr style=\"text-align: right;\">\n",
       "      <th></th>\n",
       "      <th>name</th>\n",
       "      <th>age</th>\n",
       "    </tr>\n",
       "  </thead>\n",
       "  <tbody>\n",
       "    <tr>\n",
       "      <th>0</th>\n",
       "      <td>Ali</td>\n",
       "      <td>12</td>\n",
       "    </tr>\n",
       "    <tr>\n",
       "      <th>1</th>\n",
       "      <td>Sara</td>\n",
       "      <td>13</td>\n",
       "    </tr>\n",
       "    <tr>\n",
       "      <th>2</th>\n",
       "      <td>Taha</td>\n",
       "      <td>12</td>\n",
       "    </tr>\n",
       "    <tr>\n",
       "      <th>3</th>\n",
       "      <td>Mahsa</td>\n",
       "      <td>20</td>\n",
       "    </tr>\n",
       "  </tbody>\n",
       "</table>\n",
       "</div>"
      ],
      "text/plain": [
       "    name  age\n",
       "0    Ali   12\n",
       "1   Sara   13\n",
       "2   Taha   12\n",
       "3  Mahsa   20"
      ]
     },
     "execution_count": 14,
     "metadata": {},
     "output_type": "execute_result"
    }
   ],
   "source": [
    "pd.read_csv('G:SoftwareTutorial/Programming/Python/MachineLearning/Files/age.csv', skiprows=[0])"
   ]
  },
  {
   "cell_type": "code",
   "execution_count": 15,
   "id": "f5b0df96",
   "metadata": {},
   "outputs": [
    {
     "data": {
      "text/html": [
       "<div>\n",
       "<style scoped>\n",
       "    .dataframe tbody tr th:only-of-type {\n",
       "        vertical-align: middle;\n",
       "    }\n",
       "\n",
       "    .dataframe tbody tr th {\n",
       "        vertical-align: top;\n",
       "    }\n",
       "\n",
       "    .dataframe thead tr th {\n",
       "        text-align: left;\n",
       "    }\n",
       "</style>\n",
       "<table border=\"1\" class=\"dataframe\">\n",
       "  <thead>\n",
       "    <tr>\n",
       "      <th></th>\n",
       "      <th>#  Hello</th>\n",
       "      <th>shirafkan</th>\n",
       "    </tr>\n",
       "    <tr>\n",
       "      <th></th>\n",
       "      <th>name</th>\n",
       "      <th>age</th>\n",
       "    </tr>\n",
       "  </thead>\n",
       "  <tbody>\n",
       "    <tr>\n",
       "      <th>0</th>\n",
       "      <td>Ali</td>\n",
       "      <td>12</td>\n",
       "    </tr>\n",
       "    <tr>\n",
       "      <th>1</th>\n",
       "      <td>Sara</td>\n",
       "      <td>13</td>\n",
       "    </tr>\n",
       "    <tr>\n",
       "      <th>2</th>\n",
       "      <td>Taha</td>\n",
       "      <td>12</td>\n",
       "    </tr>\n",
       "    <tr>\n",
       "      <th>3</th>\n",
       "      <td>Mahsa</td>\n",
       "      <td>20</td>\n",
       "    </tr>\n",
       "  </tbody>\n",
       "</table>\n",
       "</div>"
      ],
      "text/plain": [
       "  #  Hello shirafkan\n",
       "      name       age\n",
       "0      Ali        12\n",
       "1     Sara        13\n",
       "2     Taha        12\n",
       "3    Mahsa        20"
      ]
     },
     "execution_count": 15,
     "metadata": {},
     "output_type": "execute_result"
    }
   ],
   "source": [
    "pd.read_csv('G:SoftwareTutorial/Programming/Python/MachineLearning/Files/age.csv', header=[0,1])"
   ]
  },
  {
   "cell_type": "markdown",
   "id": "413cbdde",
   "metadata": {},
   "source": [
    "اون قبلی از خط اول که یکسری اطلاعات اضافه بود اسکیپ بود. این دستور اومده و دو تا سطر رو به عنوان هدر در نظر گرفته"
   ]
  },
  {
   "cell_type": "markdown",
   "id": "92a80955",
   "metadata": {},
   "source": [
    "## read csv,txt"
   ]
  },
  {
   "cell_type": "code",
   "execution_count": 16,
   "id": "79ccd115",
   "metadata": {},
   "outputs": [],
   "source": [
    "import csv"
   ]
  },
  {
   "cell_type": "code",
   "execution_count": 17,
   "id": "41640ac0",
   "metadata": {},
   "outputs": [
    {
     "data": {
      "text/plain": [
       "[['Name', 'Score', 'Age'],\n",
       " ['Ali', '18.0', '19'],\n",
       " ['Sara', '20.0', '22'],\n",
       " ['Taha', '15.0', '26'],\n",
       " ['Omid', '17.5', '18']]"
      ]
     },
     "execution_count": 17,
     "metadata": {},
     "output_type": "execute_result"
    }
   ],
   "source": [
    "with open ('G:SoftwareTutorial/Programming/Python/MachineLearning/Files/Score.csv') as f:\n",
    "    x = list(csv.reader(f))\n",
    "x"
   ]
  },
  {
   "cell_type": "code",
   "execution_count": 18,
   "id": "d72a8a6b",
   "metadata": {},
   "outputs": [
    {
     "data": {
      "text/plain": [
       "['Sara', '20.0', '22']"
      ]
     },
     "execution_count": 18,
     "metadata": {},
     "output_type": "execute_result"
    }
   ],
   "source": [
    "x[2]"
   ]
  },
  {
   "cell_type": "code",
   "execution_count": 20,
   "id": "fd4422b8",
   "metadata": {},
   "outputs": [
    {
     "data": {
      "text/html": [
       "<div>\n",
       "<style scoped>\n",
       "    .dataframe tbody tr th:only-of-type {\n",
       "        vertical-align: middle;\n",
       "    }\n",
       "\n",
       "    .dataframe tbody tr th {\n",
       "        vertical-align: top;\n",
       "    }\n",
       "\n",
       "    .dataframe thead th {\n",
       "        text-align: right;\n",
       "    }\n",
       "</style>\n",
       "<table border=\"1\" class=\"dataframe\">\n",
       "  <thead>\n",
       "    <tr style=\"text-align: right;\">\n",
       "      <th></th>\n",
       "      <th>Name,Score,Age</th>\n",
       "    </tr>\n",
       "  </thead>\n",
       "  <tbody>\n",
       "    <tr>\n",
       "      <th>0</th>\n",
       "      <td>Ali,18.0,19</td>\n",
       "    </tr>\n",
       "    <tr>\n",
       "      <th>1</th>\n",
       "      <td>Sara,20.0,22</td>\n",
       "    </tr>\n",
       "    <tr>\n",
       "      <th>2</th>\n",
       "      <td>Taha,15.0,26</td>\n",
       "    </tr>\n",
       "    <tr>\n",
       "      <th>3</th>\n",
       "      <td>Omid,17.5,18</td>\n",
       "    </tr>\n",
       "  </tbody>\n",
       "</table>\n",
       "</div>"
      ],
      "text/plain": [
       "  Name,Score,Age\n",
       "0    Ali,18.0,19\n",
       "1   Sara,20.0,22\n",
       "2   Taha,15.0,26\n",
       "3   Omid,17.5,18"
      ]
     },
     "execution_count": 20,
     "metadata": {},
     "output_type": "execute_result"
    }
   ],
   "source": [
    "pd.read_table('G:SoftwareTutorial/Programming/Python/MachineLearning/Files/Score.csv')"
   ]
  },
  {
   "cell_type": "code",
   "execution_count": 21,
   "id": "b133357c",
   "metadata": {},
   "outputs": [
    {
     "data": {
      "text/html": [
       "<div>\n",
       "<style scoped>\n",
       "    .dataframe tbody tr th:only-of-type {\n",
       "        vertical-align: middle;\n",
       "    }\n",
       "\n",
       "    .dataframe tbody tr th {\n",
       "        vertical-align: top;\n",
       "    }\n",
       "\n",
       "    .dataframe thead th {\n",
       "        text-align: right;\n",
       "    }\n",
       "</style>\n",
       "<table border=\"1\" class=\"dataframe\">\n",
       "  <thead>\n",
       "    <tr style=\"text-align: right;\">\n",
       "      <th></th>\n",
       "      <th>Name</th>\n",
       "      <th>Score</th>\n",
       "      <th>Age</th>\n",
       "    </tr>\n",
       "  </thead>\n",
       "  <tbody>\n",
       "    <tr>\n",
       "      <th>0</th>\n",
       "      <td>Ali</td>\n",
       "      <td>18.0</td>\n",
       "      <td>19</td>\n",
       "    </tr>\n",
       "    <tr>\n",
       "      <th>1</th>\n",
       "      <td>Sara</td>\n",
       "      <td>20.0</td>\n",
       "      <td>22</td>\n",
       "    </tr>\n",
       "    <tr>\n",
       "      <th>2</th>\n",
       "      <td>Taha</td>\n",
       "      <td>15.0</td>\n",
       "      <td>26</td>\n",
       "    </tr>\n",
       "    <tr>\n",
       "      <th>3</th>\n",
       "      <td>Omid</td>\n",
       "      <td>17.5</td>\n",
       "      <td>18</td>\n",
       "    </tr>\n",
       "  </tbody>\n",
       "</table>\n",
       "</div>"
      ],
      "text/plain": [
       "   Name  Score  Age\n",
       "0   Ali   18.0   19\n",
       "1  Sara   20.0   22\n",
       "2  Taha   15.0   26\n",
       "3  Omid   17.5   18"
      ]
     },
     "execution_count": 21,
     "metadata": {},
     "output_type": "execute_result"
    }
   ],
   "source": [
    "pd.read_table('G:SoftwareTutorial/Programming/Python/MachineLearning/Files/Score.csv', sep=',')"
   ]
  },
  {
   "cell_type": "code",
   "execution_count": 23,
   "id": "2ef4cccc",
   "metadata": {},
   "outputs": [
    {
     "data": {
      "text/html": [
       "<div>\n",
       "<style scoped>\n",
       "    .dataframe tbody tr th:only-of-type {\n",
       "        vertical-align: middle;\n",
       "    }\n",
       "\n",
       "    .dataframe tbody tr th {\n",
       "        vertical-align: top;\n",
       "    }\n",
       "\n",
       "    .dataframe thead th {\n",
       "        text-align: right;\n",
       "    }\n",
       "</style>\n",
       "<table border=\"1\" class=\"dataframe\">\n",
       "  <thead>\n",
       "    <tr style=\"text-align: right;\">\n",
       "      <th></th>\n",
       "      <th>A</th>\n",
       "      <th>B</th>\n",
       "      <th>C</th>\n",
       "    </tr>\n",
       "  </thead>\n",
       "  <tbody>\n",
       "    <tr>\n",
       "      <th>row1</th>\n",
       "      <td>1</td>\n",
       "      <td>2</td>\n",
       "      <td>3</td>\n",
       "    </tr>\n",
       "    <tr>\n",
       "      <th>row2</th>\n",
       "      <td>4</td>\n",
       "      <td>5</td>\n",
       "      <td>6</td>\n",
       "    </tr>\n",
       "  </tbody>\n",
       "</table>\n",
       "</div>"
      ],
      "text/plain": [
       "      A  B  C\n",
       "row1  1  2  3\n",
       "row2  4  5  6"
      ]
     },
     "execution_count": 23,
     "metadata": {},
     "output_type": "execute_result"
    }
   ],
   "source": [
    "pd.read_table('G:SoftwareTutorial/Programming/Python/MachineLearning/Files/mytext.txt', sep='\\s+')"
   ]
  },
  {
   "cell_type": "markdown",
   "id": "f59162af",
   "metadata": {},
   "source": [
    "فایل تکست مون اسپیس هاش زیاد هست. سپریتور رو مشخص کردیم که اسپیس ها رو در نظر نگیره"
   ]
  },
  {
   "cell_type": "markdown",
   "id": "79239038",
   "metadata": {},
   "source": [
    "## nrows, chunksize"
   ]
  },
  {
   "cell_type": "code",
   "execution_count": 31,
   "id": "2f6368b8",
   "metadata": {},
   "outputs": [],
   "source": [
    "path = 'G:SoftwareTutorial/Programming/Python/MachineLearning/Files/Alphabet.csv'"
   ]
  },
  {
   "cell_type": "code",
   "execution_count": 32,
   "id": "a1eb14cc",
   "metadata": {},
   "outputs": [
    {
     "data": {
      "text/html": [
       "<div>\n",
       "<style scoped>\n",
       "    .dataframe tbody tr th:only-of-type {\n",
       "        vertical-align: middle;\n",
       "    }\n",
       "\n",
       "    .dataframe tbody tr th {\n",
       "        vertical-align: top;\n",
       "    }\n",
       "\n",
       "    .dataframe thead th {\n",
       "        text-align: right;\n",
       "    }\n",
       "</style>\n",
       "<table border=\"1\" class=\"dataframe\">\n",
       "  <thead>\n",
       "    <tr style=\"text-align: right;\">\n",
       "      <th></th>\n",
       "      <th>col1</th>\n",
       "      <th>col2</th>\n",
       "    </tr>\n",
       "  </thead>\n",
       "  <tbody>\n",
       "    <tr>\n",
       "      <th>0</th>\n",
       "      <td>A</td>\n",
       "      <td>1</td>\n",
       "    </tr>\n",
       "    <tr>\n",
       "      <th>1</th>\n",
       "      <td>B</td>\n",
       "      <td>2</td>\n",
       "    </tr>\n",
       "    <tr>\n",
       "      <th>2</th>\n",
       "      <td>C</td>\n",
       "      <td>3</td>\n",
       "    </tr>\n",
       "    <tr>\n",
       "      <th>3</th>\n",
       "      <td>D</td>\n",
       "      <td>4</td>\n",
       "    </tr>\n",
       "    <tr>\n",
       "      <th>4</th>\n",
       "      <td>E</td>\n",
       "      <td>5</td>\n",
       "    </tr>\n",
       "    <tr>\n",
       "      <th>5</th>\n",
       "      <td>F</td>\n",
       "      <td>6</td>\n",
       "    </tr>\n",
       "    <tr>\n",
       "      <th>6</th>\n",
       "      <td>G</td>\n",
       "      <td>7</td>\n",
       "    </tr>\n",
       "    <tr>\n",
       "      <th>7</th>\n",
       "      <td>H</td>\n",
       "      <td>8</td>\n",
       "    </tr>\n",
       "    <tr>\n",
       "      <th>8</th>\n",
       "      <td>I</td>\n",
       "      <td>9</td>\n",
       "    </tr>\n",
       "    <tr>\n",
       "      <th>9</th>\n",
       "      <td>J</td>\n",
       "      <td>10</td>\n",
       "    </tr>\n",
       "    <tr>\n",
       "      <th>10</th>\n",
       "      <td>K</td>\n",
       "      <td>11</td>\n",
       "    </tr>\n",
       "    <tr>\n",
       "      <th>11</th>\n",
       "      <td>L</td>\n",
       "      <td>12</td>\n",
       "    </tr>\n",
       "    <tr>\n",
       "      <th>12</th>\n",
       "      <td>M</td>\n",
       "      <td>13</td>\n",
       "    </tr>\n",
       "    <tr>\n",
       "      <th>13</th>\n",
       "      <td>N</td>\n",
       "      <td>14</td>\n",
       "    </tr>\n",
       "    <tr>\n",
       "      <th>14</th>\n",
       "      <td>O</td>\n",
       "      <td>15</td>\n",
       "    </tr>\n",
       "    <tr>\n",
       "      <th>15</th>\n",
       "      <td>P</td>\n",
       "      <td>16</td>\n",
       "    </tr>\n",
       "    <tr>\n",
       "      <th>16</th>\n",
       "      <td>Q</td>\n",
       "      <td>17</td>\n",
       "    </tr>\n",
       "    <tr>\n",
       "      <th>17</th>\n",
       "      <td>R</td>\n",
       "      <td>18</td>\n",
       "    </tr>\n",
       "    <tr>\n",
       "      <th>18</th>\n",
       "      <td>S</td>\n",
       "      <td>19</td>\n",
       "    </tr>\n",
       "    <tr>\n",
       "      <th>19</th>\n",
       "      <td>T</td>\n",
       "      <td>20</td>\n",
       "    </tr>\n",
       "    <tr>\n",
       "      <th>20</th>\n",
       "      <td>U</td>\n",
       "      <td>21</td>\n",
       "    </tr>\n",
       "    <tr>\n",
       "      <th>21</th>\n",
       "      <td>V</td>\n",
       "      <td>22</td>\n",
       "    </tr>\n",
       "    <tr>\n",
       "      <th>22</th>\n",
       "      <td>W</td>\n",
       "      <td>23</td>\n",
       "    </tr>\n",
       "    <tr>\n",
       "      <th>23</th>\n",
       "      <td>X</td>\n",
       "      <td>24</td>\n",
       "    </tr>\n",
       "    <tr>\n",
       "      <th>24</th>\n",
       "      <td>Y</td>\n",
       "      <td>25</td>\n",
       "    </tr>\n",
       "    <tr>\n",
       "      <th>25</th>\n",
       "      <td>Z</td>\n",
       "      <td>26</td>\n",
       "    </tr>\n",
       "  </tbody>\n",
       "</table>\n",
       "</div>"
      ],
      "text/plain": [
       "   col1  col2\n",
       "0     A     1\n",
       "1     B     2\n",
       "2     C     3\n",
       "3     D     4\n",
       "4     E     5\n",
       "5     F     6\n",
       "6     G     7\n",
       "7     H     8\n",
       "8     I     9\n",
       "9     J    10\n",
       "10    K    11\n",
       "11    L    12\n",
       "12    M    13\n",
       "13    N    14\n",
       "14    O    15\n",
       "15    P    16\n",
       "16    Q    17\n",
       "17    R    18\n",
       "18    S    19\n",
       "19    T    20\n",
       "20    U    21\n",
       "21    V    22\n",
       "22    W    23\n",
       "23    X    24\n",
       "24    Y    25\n",
       "25    Z    26"
      ]
     },
     "execution_count": 32,
     "metadata": {},
     "output_type": "execute_result"
    }
   ],
   "source": [
    "pd.read_csv(path)"
   ]
  },
  {
   "cell_type": "code",
   "execution_count": 33,
   "id": "2c6a6167",
   "metadata": {},
   "outputs": [
    {
     "data": {
      "text/html": [
       "<div>\n",
       "<style scoped>\n",
       "    .dataframe tbody tr th:only-of-type {\n",
       "        vertical-align: middle;\n",
       "    }\n",
       "\n",
       "    .dataframe tbody tr th {\n",
       "        vertical-align: top;\n",
       "    }\n",
       "\n",
       "    .dataframe thead th {\n",
       "        text-align: right;\n",
       "    }\n",
       "</style>\n",
       "<table border=\"1\" class=\"dataframe\">\n",
       "  <thead>\n",
       "    <tr style=\"text-align: right;\">\n",
       "      <th></th>\n",
       "      <th>col1</th>\n",
       "      <th>col2</th>\n",
       "    </tr>\n",
       "  </thead>\n",
       "  <tbody>\n",
       "    <tr>\n",
       "      <th>0</th>\n",
       "      <td>A</td>\n",
       "      <td>1</td>\n",
       "    </tr>\n",
       "    <tr>\n",
       "      <th>1</th>\n",
       "      <td>B</td>\n",
       "      <td>2</td>\n",
       "    </tr>\n",
       "    <tr>\n",
       "      <th>2</th>\n",
       "      <td>C</td>\n",
       "      <td>3</td>\n",
       "    </tr>\n",
       "    <tr>\n",
       "      <th>3</th>\n",
       "      <td>D</td>\n",
       "      <td>4</td>\n",
       "    </tr>\n",
       "  </tbody>\n",
       "</table>\n",
       "</div>"
      ],
      "text/plain": [
       "  col1  col2\n",
       "0    A     1\n",
       "1    B     2\n",
       "2    C     3\n",
       "3    D     4"
      ]
     },
     "execution_count": 33,
     "metadata": {},
     "output_type": "execute_result"
    }
   ],
   "source": [
    "pd.read_csv(path, nrows=4)"
   ]
  },
  {
   "cell_type": "markdown",
   "id": "6d5266f1",
   "metadata": {},
   "source": [
    "این دستور مشخص میکنه چند تا سطر اول رو ببینیم. حالا اگه بخواهیم از آخر مشخص کنیم که فلاتن قدر سطر رو حذف کن داریم"
   ]
  },
  {
   "cell_type": "code",
   "execution_count": 34,
   "id": "7a81c642",
   "metadata": {},
   "outputs": [
    {
     "data": {
      "text/html": [
       "<div>\n",
       "<style scoped>\n",
       "    .dataframe tbody tr th:only-of-type {\n",
       "        vertical-align: middle;\n",
       "    }\n",
       "\n",
       "    .dataframe tbody tr th {\n",
       "        vertical-align: top;\n",
       "    }\n",
       "\n",
       "    .dataframe thead th {\n",
       "        text-align: right;\n",
       "    }\n",
       "</style>\n",
       "<table border=\"1\" class=\"dataframe\">\n",
       "  <thead>\n",
       "    <tr style=\"text-align: right;\">\n",
       "      <th></th>\n",
       "      <th>col1</th>\n",
       "      <th>col2</th>\n",
       "    </tr>\n",
       "  </thead>\n",
       "  <tbody>\n",
       "    <tr>\n",
       "      <th>0</th>\n",
       "      <td>A</td>\n",
       "      <td>1</td>\n",
       "    </tr>\n",
       "    <tr>\n",
       "      <th>1</th>\n",
       "      <td>B</td>\n",
       "      <td>2</td>\n",
       "    </tr>\n",
       "    <tr>\n",
       "      <th>2</th>\n",
       "      <td>C</td>\n",
       "      <td>3</td>\n",
       "    </tr>\n",
       "    <tr>\n",
       "      <th>3</th>\n",
       "      <td>D</td>\n",
       "      <td>4</td>\n",
       "    </tr>\n",
       "    <tr>\n",
       "      <th>4</th>\n",
       "      <td>E</td>\n",
       "      <td>5</td>\n",
       "    </tr>\n",
       "    <tr>\n",
       "      <th>5</th>\n",
       "      <td>F</td>\n",
       "      <td>6</td>\n",
       "    </tr>\n",
       "    <tr>\n",
       "      <th>6</th>\n",
       "      <td>G</td>\n",
       "      <td>7</td>\n",
       "    </tr>\n",
       "    <tr>\n",
       "      <th>7</th>\n",
       "      <td>H</td>\n",
       "      <td>8</td>\n",
       "    </tr>\n",
       "    <tr>\n",
       "      <th>8</th>\n",
       "      <td>I</td>\n",
       "      <td>9</td>\n",
       "    </tr>\n",
       "  </tbody>\n",
       "</table>\n",
       "</div>"
      ],
      "text/plain": [
       "  col1  col2\n",
       "0    A     1\n",
       "1    B     2\n",
       "2    C     3\n",
       "3    D     4\n",
       "4    E     5\n",
       "5    F     6\n",
       "6    G     7\n",
       "7    H     8\n",
       "8    I     9"
      ]
     },
     "execution_count": 34,
     "metadata": {},
     "output_type": "execute_result"
    }
   ],
   "source": [
    "pd.read_csv(path, skipfooter=17, engine='python')"
   ]
  },
  {
   "cell_type": "code",
   "execution_count": 37,
   "id": "0939ff94",
   "metadata": {},
   "outputs": [
    {
     "name": "stdout",
     "output_type": "stream",
     "text": [
      "  col1  col2\n",
      "0    A     1\n",
      "1    B     2\n",
      "2    C     3\n",
      "3    D     4\n",
      "4    E     5\n",
      "5    F     6\n",
      "6    G     7\n",
      "7    H     8\n",
      "   col1  col2\n",
      "8     I     9\n",
      "9     J    10\n",
      "10    K    11\n",
      "11    L    12\n",
      "12    M    13\n",
      "13    N    14\n",
      "14    O    15\n",
      "15    P    16\n",
      "   col1  col2\n",
      "16    Q    17\n",
      "17    R    18\n",
      "18    S    19\n",
      "19    T    20\n",
      "20    U    21\n",
      "21    V    22\n",
      "22    W    23\n",
      "23    X    24\n",
      "   col1  col2\n",
      "24    Y    25\n",
      "25    Z    26\n"
     ]
    }
   ],
   "source": [
    "c = pd.read_csv(path, chunksize=8)\n",
    "for i in c:\n",
    "    print (i)"
   ]
  },
  {
   "cell_type": "markdown",
   "id": "4b0dbe89",
   "metadata": {},
   "source": [
    "داره هشت سطر هشت سطر فایل رو میخونه و داخل فایل سی قرار میده و بعدش هم که پرینت کردیم"
   ]
  },
  {
   "cell_type": "markdown",
   "id": "28752cab",
   "metadata": {},
   "source": [
    "یک آپشن هست بدین صورت که از فایل که میخونه مثلا هشت سطر رو نشون بده ولی این هشت سطر اینجوری باشه که چهار سطر اول و چهار سطر آخر باشن"
   ]
  },
  {
   "cell_type": "markdown",
   "id": "35dce30c",
   "metadata": {},
   "source": [
    "## sys.stdout"
   ]
  },
  {
   "cell_type": "code",
   "execution_count": 38,
   "id": "244f7215",
   "metadata": {},
   "outputs": [],
   "source": [
    "import sys"
   ]
  },
  {
   "cell_type": "code",
   "execution_count": 40,
   "id": "f4eae267",
   "metadata": {},
   "outputs": [],
   "source": [
    "mydata = pd.read_csv('G:SoftwareTutorial/Programming/Python/MachineLearning/Files/Score.csv')"
   ]
  },
  {
   "cell_type": "code",
   "execution_count": 41,
   "id": "8693d756",
   "metadata": {},
   "outputs": [
    {
     "name": "stdout",
     "output_type": "stream",
     "text": [
      ",Name,Score,Age\r\n",
      "0,Ali,18.0,19\r\n",
      "1,Sara,20.0,22\r\n",
      "2,Taha,15.0,26\r\n",
      "3,Omid,17.5,18\r\n"
     ]
    }
   ],
   "source": [
    "mydata.to_csv(sys.stdout)"
   ]
  },
  {
   "cell_type": "markdown",
   "id": "d6eb049f",
   "metadata": {},
   "source": [
    "خروجی استاندارد. خروجی هم تو مانیتور نمایش داده میشه و جایی ذخیره نشده"
   ]
  },
  {
   "cell_type": "code",
   "execution_count": 42,
   "id": "422a38e9",
   "metadata": {},
   "outputs": [
    {
     "name": "stdout",
     "output_type": "stream",
     "text": [
      "Ali|18.0|19\r\n",
      "Sara|20.0|22\r\n",
      "Taha|15.0|26\r\n",
      "Omid|17.5|18\r\n"
     ]
    }
   ],
   "source": [
    "mydata.to_csv(sys.stdout, index=False, header=False, sep='|')"
   ]
  },
  {
   "cell_type": "markdown",
   "id": "b02aae84",
   "metadata": {},
   "source": [
    "## Excel"
   ]
  },
  {
   "cell_type": "code",
   "execution_count": 43,
   "id": "dc5ea506",
   "metadata": {},
   "outputs": [],
   "source": [
    "# pip install openpyxl"
   ]
  },
  {
   "cell_type": "code",
   "execution_count": 45,
   "id": "8df47604",
   "metadata": {},
   "outputs": [
    {
     "data": {
      "text/html": [
       "<div>\n",
       "<style scoped>\n",
       "    .dataframe tbody tr th:only-of-type {\n",
       "        vertical-align: middle;\n",
       "    }\n",
       "\n",
       "    .dataframe tbody tr th {\n",
       "        vertical-align: top;\n",
       "    }\n",
       "\n",
       "    .dataframe thead th {\n",
       "        text-align: right;\n",
       "    }\n",
       "</style>\n",
       "<table border=\"1\" class=\"dataframe\">\n",
       "  <thead>\n",
       "    <tr style=\"text-align: right;\">\n",
       "      <th></th>\n",
       "      <th>Name</th>\n",
       "      <th>Score</th>\n",
       "      <th>Age</th>\n",
       "    </tr>\n",
       "  </thead>\n",
       "  <tbody>\n",
       "    <tr>\n",
       "      <th>0</th>\n",
       "      <td>Ali</td>\n",
       "      <td>18.0</td>\n",
       "      <td>19</td>\n",
       "    </tr>\n",
       "    <tr>\n",
       "      <th>1</th>\n",
       "      <td>Sara</td>\n",
       "      <td>20.0</td>\n",
       "      <td>22</td>\n",
       "    </tr>\n",
       "    <tr>\n",
       "      <th>2</th>\n",
       "      <td>Taha</td>\n",
       "      <td>15.0</td>\n",
       "      <td>26</td>\n",
       "    </tr>\n",
       "    <tr>\n",
       "      <th>3</th>\n",
       "      <td>Omid</td>\n",
       "      <td>17.5</td>\n",
       "      <td>18</td>\n",
       "    </tr>\n",
       "  </tbody>\n",
       "</table>\n",
       "</div>"
      ],
      "text/plain": [
       "   Name  Score  Age\n",
       "0   Ali   18.0   19\n",
       "1  Sara   20.0   22\n",
       "2  Taha   15.0   26\n",
       "3  Omid   17.5   18"
      ]
     },
     "execution_count": 45,
     "metadata": {},
     "output_type": "execute_result"
    }
   ],
   "source": [
    "mydf"
   ]
  },
  {
   "cell_type": "code",
   "execution_count": 47,
   "id": "a8297a21",
   "metadata": {},
   "outputs": [],
   "source": [
    "mydf.to_excel('G:SoftwareTutorial/Programming/Python/MachineLearning/Files/Score.xlsx', index=False)"
   ]
  },
  {
   "cell_type": "code",
   "execution_count": 48,
   "id": "ac9b56f1",
   "metadata": {},
   "outputs": [
    {
     "data": {
      "text/html": [
       "<div>\n",
       "<style scoped>\n",
       "    .dataframe tbody tr th:only-of-type {\n",
       "        vertical-align: middle;\n",
       "    }\n",
       "\n",
       "    .dataframe tbody tr th {\n",
       "        vertical-align: top;\n",
       "    }\n",
       "\n",
       "    .dataframe thead th {\n",
       "        text-align: right;\n",
       "    }\n",
       "</style>\n",
       "<table border=\"1\" class=\"dataframe\">\n",
       "  <thead>\n",
       "    <tr style=\"text-align: right;\">\n",
       "      <th></th>\n",
       "      <th>Name</th>\n",
       "      <th>Score</th>\n",
       "      <th>Age</th>\n",
       "    </tr>\n",
       "  </thead>\n",
       "  <tbody>\n",
       "    <tr>\n",
       "      <th>0</th>\n",
       "      <td>Ali</td>\n",
       "      <td>18.0</td>\n",
       "      <td>19</td>\n",
       "    </tr>\n",
       "    <tr>\n",
       "      <th>1</th>\n",
       "      <td>Sara</td>\n",
       "      <td>20.0</td>\n",
       "      <td>22</td>\n",
       "    </tr>\n",
       "    <tr>\n",
       "      <th>2</th>\n",
       "      <td>Taha</td>\n",
       "      <td>15.0</td>\n",
       "      <td>26</td>\n",
       "    </tr>\n",
       "    <tr>\n",
       "      <th>3</th>\n",
       "      <td>Omid</td>\n",
       "      <td>17.5</td>\n",
       "      <td>18</td>\n",
       "    </tr>\n",
       "  </tbody>\n",
       "</table>\n",
       "</div>"
      ],
      "text/plain": [
       "   Name  Score  Age\n",
       "0   Ali   18.0   19\n",
       "1  Sara   20.0   22\n",
       "2  Taha   15.0   26\n",
       "3  Omid   17.5   18"
      ]
     },
     "execution_count": 48,
     "metadata": {},
     "output_type": "execute_result"
    }
   ],
   "source": [
    "pd.read_excel('G:SoftwareTutorial/Programming/Python/MachineLearning/Files/Score.xlsx')"
   ]
  },
  {
   "cell_type": "markdown",
   "id": "bf551b13",
   "metadata": {},
   "source": [
    "## JSON: JavaScript Object Notation"
   ]
  },
  {
   "cell_type": "code",
   "execution_count": 50,
   "id": "1c2eb816",
   "metadata": {},
   "outputs": [],
   "source": [
    "import json"
   ]
  },
  {
   "cell_type": "code",
   "execution_count": 58,
   "id": "19f5f0ba",
   "metadata": {},
   "outputs": [],
   "source": [
    "mystr = \"\"\"\n",
    "{\n",
    "    \"FirstName\": \"Taha\",\n",
    "    \"Courses\": [{\"Name\": \"Python\", \"Score\": 18}, {\"Name\": \"C++\", \"Score\": 17}]\n",
    "}\n",
    "\"\"\""
   ]
  },
  {
   "cell_type": "code",
   "execution_count": 59,
   "id": "d6faac77",
   "metadata": {},
   "outputs": [
    {
     "data": {
      "text/html": [
       "<div>\n",
       "<style scoped>\n",
       "    .dataframe tbody tr th:only-of-type {\n",
       "        vertical-align: middle;\n",
       "    }\n",
       "\n",
       "    .dataframe tbody tr th {\n",
       "        vertical-align: top;\n",
       "    }\n",
       "\n",
       "    .dataframe thead th {\n",
       "        text-align: right;\n",
       "    }\n",
       "</style>\n",
       "<table border=\"1\" class=\"dataframe\">\n",
       "  <thead>\n",
       "    <tr style=\"text-align: right;\">\n",
       "      <th></th>\n",
       "      <th>Name</th>\n",
       "      <th>Score</th>\n",
       "    </tr>\n",
       "  </thead>\n",
       "  <tbody>\n",
       "    <tr>\n",
       "      <th>0</th>\n",
       "      <td>Python</td>\n",
       "      <td>18</td>\n",
       "    </tr>\n",
       "    <tr>\n",
       "      <th>1</th>\n",
       "      <td>C++</td>\n",
       "      <td>17</td>\n",
       "    </tr>\n",
       "  </tbody>\n",
       "</table>\n",
       "</div>"
      ],
      "text/plain": [
       "     Name  Score\n",
       "0  Python     18\n",
       "1     C++     17"
      ]
     },
     "execution_count": 59,
     "metadata": {},
     "output_type": "execute_result"
    }
   ],
   "source": [
    "mydict = json.loads(mystr)\n",
    "frame = pd.DataFrame(mydict['Courses'], columns=['Name', 'Score'])\n",
    "frame"
   ]
  },
  {
   "cell_type": "code",
   "execution_count": 60,
   "id": "1819fbaa",
   "metadata": {},
   "outputs": [
    {
     "data": {
      "text/plain": [
       "'{\"Name\":{\"0\":\"Python\",\"1\":\"C++\"},\"Score\":{\"0\":18,\"1\":17}}'"
      ]
     },
     "execution_count": 60,
     "metadata": {},
     "output_type": "execute_result"
    }
   ],
   "source": [
    "frame.to_json()"
   ]
  },
  {
   "cell_type": "code",
   "execution_count": 61,
   "id": "c3adce54",
   "metadata": {},
   "outputs": [
    {
     "data": {
      "text/plain": [
       "'[[\"Python\",18],[\"C++\",17]]'"
      ]
     },
     "execution_count": 61,
     "metadata": {},
     "output_type": "execute_result"
    }
   ],
   "source": [
    "frame.to_json(orient='values')"
   ]
  },
  {
   "cell_type": "code",
   "execution_count": 62,
   "id": "a8b49eaa",
   "metadata": {},
   "outputs": [
    {
     "data": {
      "text/plain": [
       "'{\"0\":{\"Name\":\"Python\",\"Score\":18},\"1\":{\"Name\":\"C++\",\"Score\":17}}'"
      ]
     },
     "execution_count": 62,
     "metadata": {},
     "output_type": "execute_result"
    }
   ],
   "source": [
    "frame.to_json(orient='index')"
   ]
  },
  {
   "cell_type": "code",
   "execution_count": 63,
   "id": "ca7643cd",
   "metadata": {},
   "outputs": [
    {
     "data": {
      "text/plain": [
       "'{\"columns\":[\"Name\",\"Score\"],\"index\":[0,1],\"data\":[[\"Python\",18],[\"C++\",17]]}'"
      ]
     },
     "execution_count": 63,
     "metadata": {},
     "output_type": "execute_result"
    }
   ],
   "source": [
    "frame.to_json(orient='split')"
   ]
  },
  {
   "cell_type": "markdown",
   "id": "bff254df",
   "metadata": {},
   "source": [
    "## pd.HTML: Hypertext Markup Language"
   ]
  },
  {
   "cell_type": "code",
   "execution_count": 2,
   "id": "2bc9dd27",
   "metadata": {},
   "outputs": [],
   "source": [
    "#pip install lxml"
   ]
  },
  {
   "cell_type": "code",
   "execution_count": 3,
   "id": "cfc9746c",
   "metadata": {},
   "outputs": [],
   "source": [
    "#pip install html5lib"
   ]
  },
  {
   "cell_type": "code",
   "execution_count": 4,
   "id": "7a609f2d",
   "metadata": {},
   "outputs": [],
   "source": [
    "mystr = \"\"\"\n",
    "<table>\n",
    "    <thead>\n",
    "        <tr>\n",
    "            <th>name</th>\n",
    "            <th>score</th>\n",
    "        </tr>\n",
    "    </thead>\n",
    "    <tbody>\n",
    "        <tr>\n",
    "            <td>Ali</td>\n",
    "            <td>12</td>\n",
    "        </tr>\n",
    "        <tr>\n",
    "            <td>Sara</td>\n",
    "            <td>18</td>\n",
    "        </tr>\n",
    "        </tbody\n",
    "</table>\n",
    "\"\"\""
   ]
  },
  {
   "cell_type": "code",
   "execution_count": 5,
   "id": "283f0d9a",
   "metadata": {},
   "outputs": [],
   "source": [
    "lst = pd.read_html(mystr)"
   ]
  },
  {
   "cell_type": "code",
   "execution_count": 6,
   "id": "0d2ef6a7",
   "metadata": {},
   "outputs": [
    {
     "data": {
      "text/html": [
       "<div>\n",
       "<style scoped>\n",
       "    .dataframe tbody tr th:only-of-type {\n",
       "        vertical-align: middle;\n",
       "    }\n",
       "\n",
       "    .dataframe tbody tr th {\n",
       "        vertical-align: top;\n",
       "    }\n",
       "\n",
       "    .dataframe thead th {\n",
       "        text-align: right;\n",
       "    }\n",
       "</style>\n",
       "<table border=\"1\" class=\"dataframe\">\n",
       "  <thead>\n",
       "    <tr style=\"text-align: right;\">\n",
       "      <th></th>\n",
       "      <th>name</th>\n",
       "      <th>score</th>\n",
       "    </tr>\n",
       "  </thead>\n",
       "  <tbody>\n",
       "    <tr>\n",
       "      <th>0</th>\n",
       "      <td>Ali</td>\n",
       "      <td>12</td>\n",
       "    </tr>\n",
       "    <tr>\n",
       "      <th>1</th>\n",
       "      <td>Sara</td>\n",
       "      <td>18</td>\n",
       "    </tr>\n",
       "  </tbody>\n",
       "</table>\n",
       "</div>"
      ],
      "text/plain": [
       "   name  score\n",
       "0   Ali     12\n",
       "1  Sara     18"
      ]
     },
     "execution_count": 6,
     "metadata": {},
     "output_type": "execute_result"
    }
   ],
   "source": [
    "lst[0]"
   ]
  },
  {
   "cell_type": "markdown",
   "id": "77bc00be",
   "metadata": {},
   "source": [
    "میتونیم یک فایل HTML\n",
    "هم بخونیم"
   ]
  },
  {
   "cell_type": "markdown",
   "id": "192d60cc",
   "metadata": {},
   "source": [
    "## XML: Extensible Markup Language"
   ]
  },
  {
   "cell_type": "code",
   "execution_count": 7,
   "id": "9f89b27e",
   "metadata": {},
   "outputs": [],
   "source": [
    "from lxml import objectify"
   ]
  },
  {
   "cell_type": "code",
   "execution_count": 8,
   "id": "0fb9d0f5",
   "metadata": {},
   "outputs": [],
   "source": [
    "# 00:32:00"
   ]
  },
  {
   "cell_type": "markdown",
   "id": "6e042609",
   "metadata": {},
   "source": [
    "## PKL file"
   ]
  },
  {
   "cell_type": "code",
   "execution_count": 9,
   "id": "5806a886",
   "metadata": {},
   "outputs": [],
   "source": [
    "# 00:36:40"
   ]
  },
  {
   "cell_type": "markdown",
   "id": "c78f8e99",
   "metadata": {},
   "source": [
    "## Hierarchical Data Format (HDF)"
   ]
  },
  {
   "cell_type": "code",
   "execution_count": 10,
   "id": "f60a60df",
   "metadata": {},
   "outputs": [],
   "source": [
    "# 00:38:40"
   ]
  },
  {
   "cell_type": "markdown",
   "id": "f8d54082",
   "metadata": {},
   "source": [
    "## Interacting with Databases"
   ]
  },
  {
   "cell_type": "code",
   "execution_count": 11,
   "id": "10b325a3",
   "metadata": {},
   "outputs": [],
   "source": [
    "import sqlite3"
   ]
  },
  {
   "cell_type": "code",
   "execution_count": 12,
   "id": "53f9ae8a",
   "metadata": {},
   "outputs": [],
   "source": [
    "query = \"\"\" CREATE TABLE AgeTable (Name VARCHAR(20), age INTIGER); \"\"\""
   ]
  },
  {
   "cell_type": "code",
   "execution_count": 15,
   "id": "0dbb6008",
   "metadata": {},
   "outputs": [
    {
     "ename": "OperationalError",
     "evalue": "table AgeTable already exists",
     "output_type": "error",
     "traceback": [
      "\u001b[1;31m---------------------------------------------------------------------------\u001b[0m",
      "\u001b[1;31mOperationalError\u001b[0m                          Traceback (most recent call last)",
      "\u001b[1;32m~\\AppData\\Local\\Temp/ipykernel_9028/1384001614.py\u001b[0m in \u001b[0;36m<module>\u001b[1;34m\u001b[0m\n\u001b[0;32m      1\u001b[0m \u001b[0mcon\u001b[0m \u001b[1;33m=\u001b[0m \u001b[0msqlite3\u001b[0m\u001b[1;33m.\u001b[0m\u001b[0mconnect\u001b[0m\u001b[1;33m(\u001b[0m\u001b[1;34m'G:SoftwareTutorial/Programming/Python/MachineLearning/Files/mydata.sqlite'\u001b[0m\u001b[1;33m)\u001b[0m\u001b[1;33m\u001b[0m\u001b[1;33m\u001b[0m\u001b[0m\n\u001b[1;32m----> 2\u001b[1;33m \u001b[0mcon\u001b[0m\u001b[1;33m.\u001b[0m\u001b[0mexecute\u001b[0m\u001b[1;33m(\u001b[0m\u001b[0mquery\u001b[0m\u001b[1;33m)\u001b[0m\u001b[1;33m\u001b[0m\u001b[1;33m\u001b[0m\u001b[0m\n\u001b[0m\u001b[0;32m      3\u001b[0m \u001b[0mcon\u001b[0m\u001b[1;33m.\u001b[0m\u001b[0mcommit\u001b[0m\u001b[1;33m(\u001b[0m\u001b[1;33m)\u001b[0m\u001b[1;33m\u001b[0m\u001b[1;33m\u001b[0m\u001b[0m\n",
      "\u001b[1;31mOperationalError\u001b[0m: table AgeTable already exists"
     ]
    }
   ],
   "source": [
    "con = sqlite3.connect('G:SoftwareTutorial/Programming/Python/MachineLearning/Files/mydata.sqlite')\n",
    "con.execute(query)\n",
    "con.commit()"
   ]
  },
  {
   "cell_type": "code",
   "execution_count": 17,
   "id": "7cbe13b1",
   "metadata": {},
   "outputs": [],
   "source": [
    "data = [('Ali', 37), ('Taha', 25), ('Sara', 40)]\n",
    "q = \"INSERT INTO AgeTable VALUES(?, ?)\"\n",
    "con.executemany(q, data)\n",
    "con.commit()"
   ]
  },
  {
   "cell_type": "code",
   "execution_count": 18,
   "id": "f2242b98",
   "metadata": {},
   "outputs": [],
   "source": [
    "q = 'Select * from AgeTable'\n",
    "mydata = con.execute(q)\n",
    "col = [x[0] for x in mydata.description]"
   ]
  },
  {
   "cell_type": "code",
   "execution_count": 19,
   "id": "503a0427",
   "metadata": {},
   "outputs": [
    {
     "data": {
      "text/html": [
       "<div>\n",
       "<style scoped>\n",
       "    .dataframe tbody tr th:only-of-type {\n",
       "        vertical-align: middle;\n",
       "    }\n",
       "\n",
       "    .dataframe tbody tr th {\n",
       "        vertical-align: top;\n",
       "    }\n",
       "\n",
       "    .dataframe thead th {\n",
       "        text-align: right;\n",
       "    }\n",
       "</style>\n",
       "<table border=\"1\" class=\"dataframe\">\n",
       "  <thead>\n",
       "    <tr style=\"text-align: right;\">\n",
       "      <th></th>\n",
       "      <th>Name</th>\n",
       "      <th>age</th>\n",
       "    </tr>\n",
       "  </thead>\n",
       "  <tbody>\n",
       "    <tr>\n",
       "      <th>0</th>\n",
       "      <td>Ali</td>\n",
       "      <td>37</td>\n",
       "    </tr>\n",
       "    <tr>\n",
       "      <th>1</th>\n",
       "      <td>Taha</td>\n",
       "      <td>25</td>\n",
       "    </tr>\n",
       "    <tr>\n",
       "      <th>2</th>\n",
       "      <td>Sara</td>\n",
       "      <td>40</td>\n",
       "    </tr>\n",
       "  </tbody>\n",
       "</table>\n",
       "</div>"
      ],
      "text/plain": [
       "   Name  age\n",
       "0   Ali   37\n",
       "1  Taha   25\n",
       "2  Sara   40"
      ]
     },
     "execution_count": 19,
     "metadata": {},
     "output_type": "execute_result"
    }
   ],
   "source": [
    "pd.DataFrame(mydata.fetchall(), columns=col)"
   ]
  },
  {
   "cell_type": "markdown",
   "id": "3bb51480",
   "metadata": {},
   "source": [
    "## requests.get"
   ]
  },
  {
   "cell_type": "code",
   "execution_count": 20,
   "id": "cca07477",
   "metadata": {},
   "outputs": [],
   "source": [
    "import requests"
   ]
  },
  {
   "cell_type": "code",
   "execution_count": 22,
   "id": "08eeff25",
   "metadata": {},
   "outputs": [],
   "source": [
    "r = requests.get('https://api.github.com/repos/pandas-dev/pandas/issues')"
   ]
  },
  {
   "cell_type": "code",
   "execution_count": 25,
   "id": "bcab23c3",
   "metadata": {},
   "outputs": [
    {
     "name": "stdout",
     "output_type": "stream",
     "text": [
      "Success!\n"
     ]
    }
   ],
   "source": [
    "if r.status_code == 200:\n",
    "        print('Success!')\n",
    "elif r.status_code == 404:\n",
    "        print('Not Found.')"
   ]
  },
  {
   "cell_type": "code",
   "execution_count": 26,
   "id": "bc0b0426",
   "metadata": {},
   "outputs": [
    {
     "data": {
      "text/html": [
       "<div>\n",
       "<style scoped>\n",
       "    .dataframe tbody tr th:only-of-type {\n",
       "        vertical-align: middle;\n",
       "    }\n",
       "\n",
       "    .dataframe tbody tr th {\n",
       "        vertical-align: top;\n",
       "    }\n",
       "\n",
       "    .dataframe thead th {\n",
       "        text-align: right;\n",
       "    }\n",
       "</style>\n",
       "<table border=\"1\" class=\"dataframe\">\n",
       "  <thead>\n",
       "    <tr style=\"text-align: right;\">\n",
       "      <th></th>\n",
       "      <th>number</th>\n",
       "      <th>title</th>\n",
       "    </tr>\n",
       "  </thead>\n",
       "  <tbody>\n",
       "    <tr>\n",
       "      <th>0</th>\n",
       "      <td>47199</td>\n",
       "      <td>BUG: StataWriter value_label encoding</td>\n",
       "    </tr>\n",
       "    <tr>\n",
       "      <th>1</th>\n",
       "      <td>47198</td>\n",
       "      <td>ENH: Move SettingWithCopyWarning to error/__in...</td>\n",
       "    </tr>\n",
       "    <tr>\n",
       "      <th>2</th>\n",
       "      <td>47197</td>\n",
       "      <td>TYP: NDFrame.min/max mypy workaround</td>\n",
       "    </tr>\n",
       "    <tr>\n",
       "      <th>3</th>\n",
       "      <td>47196</td>\n",
       "      <td>BUG: Period + np.timedelta64(nat)</td>\n",
       "    </tr>\n",
       "    <tr>\n",
       "      <th>4</th>\n",
       "      <td>47195</td>\n",
       "      <td>Add absolute value to head() and tail() docstr...</td>\n",
       "    </tr>\n",
       "  </tbody>\n",
       "</table>\n",
       "</div>"
      ],
      "text/plain": [
       "   number                                              title\n",
       "0   47199              BUG: StataWriter value_label encoding\n",
       "1   47198  ENH: Move SettingWithCopyWarning to error/__in...\n",
       "2   47197               TYP: NDFrame.min/max mypy workaround\n",
       "3   47196                  BUG: Period + np.timedelta64(nat)\n",
       "4   47195  Add absolute value to head() and tail() docstr..."
      ]
     },
     "execution_count": 26,
     "metadata": {},
     "output_type": "execute_result"
    }
   ],
   "source": [
    "df = pd.DataFrame(r.json(), columns = ['number', 'title'])\n",
    "df.head()"
   ]
  },
  {
   "cell_type": "markdown",
   "id": "289dc3d8",
   "metadata": {},
   "source": [
    "-------------------------------------------------------"
   ]
  },
  {
   "cell_type": "markdown",
   "id": "a9a30540",
   "metadata": {},
   "source": [
    "تو این درس اول اومدیم گفتیم یک دیتافریم داریم چجوری تبدیل و ذخیره کنیم تو یک فایل سی اس وی\n",
    "یا اینکه فایل سی اس وی داریم و میخواهیم اطلاعات رو بخونیم\n",
    "همین حالات رو برای اکسل هم داشتیم\n",
    "بعد اطلاعات فایل هایی مثل جیسون رو خوندیم و دیگر فایل ها\n"
   ]
  },
  {
   "cell_type": "markdown",
   "id": "e13f973d",
   "metadata": {},
   "source": [
    "to_csv\n",
    "read_csv\n",
    "\n",
    "read_table\n",
    "\n",
    "to_excel\n",
    "read_excel\n",
    "\n",
    "to_json\n",
    "read_json\n",
    "\n",
    ".\n",
    ".\n",
    "."
   ]
  },
  {
   "cell_type": "markdown",
   "id": "df86936d",
   "metadata": {},
   "source": [
    "# The End!"
   ]
  }
 ],
 "metadata": {
  "kernelspec": {
   "display_name": "Python 3 (ipykernel)",
   "language": "python",
   "name": "python3"
  },
  "language_info": {
   "codemirror_mode": {
    "name": "ipython",
    "version": 3
   },
   "file_extension": ".py",
   "mimetype": "text/x-python",
   "name": "python",
   "nbconvert_exporter": "python",
   "pygments_lexer": "ipython3",
   "version": "3.9.7"
  }
 },
 "nbformat": 4,
 "nbformat_minor": 5
}
